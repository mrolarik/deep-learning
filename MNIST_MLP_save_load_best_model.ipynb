{
  "nbformat": 4,
  "nbformat_minor": 0,
  "metadata": {
    "colab": {
      "name": "save-load- best-model.ipynb",
      "version": "0.3.2",
      "provenance": []
    },
    "kernelspec": {
      "name": "python3",
      "display_name": "Python 3"
    },
    "accelerator": "GPU"
  },
  "cells": [
    {
      "metadata": {
        "id": "nmKVBev9IRuZ",
        "colab_type": "text"
      },
      "cell_type": "markdown",
      "source": [
        "# การบันทึกโมเดล (Model) ในรูปแบบ h5 (HDF5)"
      ]
    },
    {
      "metadata": {
        "id": "b2r84DUXIdKj",
        "colab_type": "text"
      },
      "cell_type": "markdown",
      "source": [
        "## โหลด Library ของ Keras"
      ]
    },
    {
      "metadata": {
        "id": "Ow7I2EfcFOTW",
        "colab_type": "code",
        "colab": {
          "base_uri": "https://localhost:8080/",
          "height": 34
        },
        "outputId": "a20fb941-066b-462f-d9a1-b125c5314e3e"
      },
      "cell_type": "code",
      "source": [
        "import keras\n",
        "from keras.datasets import mnist\n",
        "from keras.models import Model\n",
        "from keras.layers import Dense, Dropout, Input"
      ],
      "execution_count": 1,
      "outputs": [
        {
          "output_type": "stream",
          "text": [
            "Using TensorFlow backend.\n"
          ],
          "name": "stderr"
        }
      ]
    },
    {
      "metadata": {
        "id": "Lf4EEYH3IhEP",
        "colab_type": "text"
      },
      "cell_type": "markdown",
      "source": [
        "## กำหนดค่าพารามิเตอร์\n",
        "*  **batch_size** หมายถึง การส่งชุดข้อมูลเข้าไปประมวลผล **batch_size = 128** หมายถึงส่งเข้าไปครั้งละ 128 ชุด\n",
        "*  **num_classes** หมายถึงจำนวนของกลุ่มข้อมูล **num_classes * 10** หมายถึงมีจำนวน 10 กลุ่ม (ในตัวอย่างใช้ชุดข้อมูล MNIST ซึ่งเป็นตัวเลข 0-9 จึงมี 10 กลุ่ม)\n",
        "*  **epochs** หมายถึง จำนวนรอบที่ใช้ในการเรียนรู้ (Training) **epochs = 100** หมายถึง กำหนดให้เรียนรู้จำนวน 100 รอบ"
      ]
    },
    {
      "metadata": {
        "id": "B_rxR0rbFXl_",
        "colab_type": "code",
        "colab": {}
      },
      "cell_type": "code",
      "source": [
        "batch_size = 128\n",
        "num_classes = 10\n",
        "epochs = 100"
      ],
      "execution_count": 0,
      "outputs": []
    },
    {
      "metadata": {
        "id": "IanX3PfuJN5M",
        "colab_type": "text"
      },
      "cell_type": "markdown",
      "source": [
        "## โหลดข้อมูล MNIST"
      ]
    },
    {
      "metadata": {
        "id": "Es7E9Hl8Faxq",
        "colab_type": "code",
        "colab": {
          "base_uri": "https://localhost:8080/",
          "height": 52
        },
        "outputId": "a4031b62-c5c8-48a5-cde2-883f5d2bb9e0"
      },
      "cell_type": "code",
      "source": [
        "(x_train, y_train), (x_test, y_test) = mnist.load_data()"
      ],
      "execution_count": 3,
      "outputs": [
        {
          "output_type": "stream",
          "text": [
            "Downloading data from https://s3.amazonaws.com/img-datasets/mnist.npz\n",
            "11493376/11490434 [==============================] - 0s 0us/step\n"
          ],
          "name": "stdout"
        }
      ]
    },
    {
      "metadata": {
        "id": "IruuG2j0JV1k",
        "colab_type": "text"
      },
      "cell_type": "markdown",
      "source": [
        "## ปรับเปลี่ยนรูปแบบของข้อมูล (Transform)"
      ]
    },
    {
      "metadata": {
        "id": "sDPq-bivFboE",
        "colab_type": "code",
        "colab": {}
      },
      "cell_type": "code",
      "source": [
        "x_train = x_train.reshape(60000, 784)\n",
        "x_test = x_test.reshape(10000, 784)\n",
        "x_train = x_train.astype('float32')\n",
        "x_test = x_test.astype('float32')\n",
        "x_train /= 255\n",
        "x_test /= 255"
      ],
      "execution_count": 0,
      "outputs": []
    },
    {
      "metadata": {
        "id": "PWBafEtrJa0P",
        "colab_type": "text"
      },
      "cell_type": "markdown",
      "source": [
        "## กำหนดรูปแบบของผลลัพธ์ (Output)\n",
        "\n",
        "จากคำสั่ง **keras.utils.to_categorical()** หมายถึงการปรับรูปแบบของผลลัพธ์ ให้มีผลลัพธ์ดังต่อไปนี้\n",
        "\n",
        "```\n",
        "Label            Output  \n",
        "8                [0 0 0 0 0 0 0 0 1 0]  \n",
        "0                [1 0 0 0 0 0 0 0 0 0]  \n",
        "2                [0 0 1 0 0 0 0 0 0 0]\n",
        "```"
      ]
    },
    {
      "metadata": {
        "id": "C0uQFVg5Fcwm",
        "colab_type": "code",
        "colab": {}
      },
      "cell_type": "code",
      "source": [
        "y_train = keras.utils.to_categorical(y_train, num_classes)\n",
        "y_test = keras.utils.to_categorical(y_test, num_classes)"
      ],
      "execution_count": 0,
      "outputs": []
    },
    {
      "metadata": {
        "id": "WWBVrK9fKH8n",
        "colab_type": "text"
      },
      "cell_type": "markdown",
      "source": [
        "## สร้างโมเดลเพื่อใช้งาน\n",
        "\n",
        "จากตัวอย่างได้สร้างโมเดลของ Multi Layer Perceptron (MLP) โดยมีโครงสร้างดังนี้  \n",
        "```\n",
        "Input layer = 784 โหนด\n",
        "\n",
        "Hidden layer = 2 เลเยอร์\n",
        "      h1 = 512 โหนด \n",
        "      h2 = 512 โหนด \n",
        "      โดยทั้ง h1 และ h2 ใช้ activation function แบบ ReLU (Rectified Linear Unit) และกำหนดให้มี dropout = 0.2 (regularization technique for reducing overfitting in neural networks by preventing complex co-adaptations on training data)\n",
        "      \n",
        "Output layer = 10 โหนด (num_classes = 10) \n",
        "     โดยใช้ activation แบบ softmax ซึ่งเป็นการเปลี่ยน output ที่ได้ให้อยู่ในรูปแบบของความน่าจะเป็น (Probabilities) โดยผลรวม (Sum) ของ output จะมีค่าเป็น 1\n",
        "```"
      ]
    },
    {
      "metadata": {
        "id": "wJ0DdUBQFgh2",
        "colab_type": "code",
        "colab": {}
      },
      "cell_type": "code",
      "source": [
        "inp = Input((784,))\n",
        "x = Dense(512, activation='relu')(inp)\n",
        "x = Dropout(0.2)(x)\n",
        "x = Dense(512, activation='relu')(x)\n",
        "x = Dropout(0.2)(x)\n",
        "out = Dense(num_classes, activation='softmax')(x)\n",
        "\n",
        "model = Model(inp, out)"
      ],
      "execution_count": 0,
      "outputs": []
    },
    {
      "metadata": {
        "id": "4BdXU1kgKbmG",
        "colab_type": "text"
      },
      "cell_type": "markdown",
      "source": [
        "## ตรวจโครงสร้างของโมเดล"
      ]
    },
    {
      "metadata": {
        "id": "PZjI4diEFj-4",
        "colab_type": "code",
        "colab": {
          "base_uri": "https://localhost:8080/",
          "height": 347
        },
        "outputId": "46d430cb-6543-480f-dcbd-e7cd5d00af8f"
      },
      "cell_type": "code",
      "source": [
        "model.summary()"
      ],
      "execution_count": 27,
      "outputs": [
        {
          "output_type": "stream",
          "text": [
            "_________________________________________________________________\n",
            "Layer (type)                 Output Shape              Param #   \n",
            "=================================================================\n",
            "input_4 (InputLayer)         (None, 784)               0         \n",
            "_________________________________________________________________\n",
            "dense_10 (Dense)             (None, 512)               401920    \n",
            "_________________________________________________________________\n",
            "dropout_7 (Dropout)          (None, 512)               0         \n",
            "_________________________________________________________________\n",
            "dense_11 (Dense)             (None, 512)               262656    \n",
            "_________________________________________________________________\n",
            "dropout_8 (Dropout)          (None, 512)               0         \n",
            "_________________________________________________________________\n",
            "dense_12 (Dense)             (None, 10)                5130      \n",
            "=================================================================\n",
            "Total params: 669,706\n",
            "Trainable params: 669,706\n",
            "Non-trainable params: 0\n",
            "_________________________________________________________________\n"
          ],
          "name": "stdout"
        }
      ]
    },
    {
      "metadata": {
        "id": "DcTgz0lgWXad",
        "colab_type": "text"
      },
      "cell_type": "markdown",
      "source": [
        "## แสดงโมเดลในรูปแบบของรูปภาพ"
      ]
    },
    {
      "metadata": {
        "id": "WCVitv7cF9OW",
        "colab_type": "code",
        "colab": {
          "base_uri": "https://localhost:8080/",
          "height": 124
        },
        "outputId": "12473451-708d-41ec-dfd4-483c2cdb3be5"
      },
      "cell_type": "code",
      "source": [
        "from google.colab import drive\n",
        "drive.mount('/content/drive/')"
      ],
      "execution_count": 12,
      "outputs": [
        {
          "output_type": "stream",
          "text": [
            "Go to this URL in a browser: https://accounts.google.com/o/oauth2/auth?client_id=947318989803-6bn6qk8qdgf4n4g3pfee6491hc0brc4i.apps.googleusercontent.com&redirect_uri=urn%3Aietf%3Awg%3Aoauth%3A2.0%3Aoob&scope=email%20https%3A%2F%2Fwww.googleapis.com%2Fauth%2Fdocs.test%20https%3A%2F%2Fwww.googleapis.com%2Fauth%2Fdrive%20https%3A%2F%2Fwww.googleapis.com%2Fauth%2Fdrive.photos.readonly%20https%3A%2F%2Fwww.googleapis.com%2Fauth%2Fpeopleapi.readonly&response_type=code\n",
            "\n",
            "Enter your authorization code:\n",
            "··········\n",
            "Mounted at /content/drive/\n"
          ],
          "name": "stdout"
        }
      ]
    },
    {
      "metadata": {
        "id": "s7E8-CYtUZAf",
        "colab_type": "code",
        "colab": {}
      },
      "cell_type": "code",
      "source": [
        "keras.utils.plot_model(model, '/content/drive/My Drive/Colab Notebooks/deep-learning/multi_input_and_output_model.png', show_shapes=True)"
      ],
      "execution_count": 0,
      "outputs": []
    },
    {
      "metadata": {
        "id": "pYkIYzt0Wii0",
        "colab_type": "code",
        "colab": {
          "base_uri": "https://localhost:8080/",
          "height": 867
        },
        "outputId": "a1d6c438-a9a8-406f-bf16-be248ddccf05"
      },
      "cell_type": "code",
      "source": [
        "import matplotlib.pyplot as plt\n",
        "import matplotlib.image as mpimg\n",
        "\n",
        "plt.figure(figsize=(15,15))\n",
        "\n",
        "img = mpimg.imread('/content/drive/My Drive/Colab Notebooks/deep-learning/multi_input_and_output_model.png')\n",
        "plt.imshow(img)\n",
        "plt.show()                   "
      ],
      "execution_count": 73,
      "outputs": [
        {
          "output_type": "display_data",
          "data": {
            "image/png": "[encoded data removed]",
            "text/plain": [
              "<Figure size 1080x1080 with 1 Axes>"
            ]
          },
          "metadata": {
            "tags": []
          }
        }
      ]
    },
    {
      "metadata": {
        "id": "N-HspY1xMLBE",
        "colab_type": "text"
      },
      "cell_type": "markdown",
      "source": [
        "## กำหนด Loss Function, Optimizer (Learning function) และ Metrics  ที่ใช้ในการเรียนรู้\n",
        "\n",
        "\n",
        "* **sgd** = Stochastic gradient descent\n",
        "อ่านเพิ่มเติม http://ruder.io/optimizing-gradient-descent/\n",
        "* **loss='categorical_crossentropy'** ใช้ในกรณีที่เป็น Multiclass problem (หมายถึงคำตอบ (output) มี Class มากกว่า 2 Class) หาก output มีจำนวน 2 class เรียกว่า binary problem ให้กำหนดเป็น *binary_crossentropy*\n",
        "(ตัวอย่างของคำตอบที่ได้จากการใช้ categorical_crossentropy: https://jovianlin.io/cat-crossentropy-vs-sparse-cat-crossentropy/)\n",
        "* metrics = ['accuracy'] เป็นฟังก์ชันที่ใช้สำหรับวัดประสิทธิภาพ (Performance) ของโมเดล\n",
        "(อ่านเพิ่มเติม: https://keras.io/metrics/)\n",
        "\n"
      ]
    },
    {
      "metadata": {
        "id": "xKEpHClrF1RJ",
        "colab_type": "code",
        "colab": {}
      },
      "cell_type": "code",
      "source": [
        "model.compile(loss='categorical_crossentropy',\n",
        "              optimizer='sgd', metrics=['accuracy'])"
      ],
      "execution_count": 0,
      "outputs": []
    },
    {
      "metadata": {
        "id": "tkJ4DFP2OWiy",
        "colab_type": "text"
      },
      "cell_type": "markdown",
      "source": [
        "## เรียนรู้ (Training) ข้อมูล MNIST จากโมเดล MLP ที่สร้างขึ้น ด้วยคำสั่ง fit"
      ]
    },
    {
      "metadata": {
        "id": "W_G3UHfTF2nX",
        "colab_type": "code",
        "colab": {
          "base_uri": "https://localhost:8080/",
          "height": 3508
        },
        "outputId": "624c0052-f415-4996-baa7-615c305cbbb4"
      },
      "cell_type": "code",
      "source": [
        "history = model.fit(x_train, y_train,\n",
        "                    batch_size=batch_size,\n",
        "                    epochs=epochs,\n",
        "                    verbose=1,\n",
        "                    validation_data=(x_test, y_test))"
      ],
      "execution_count": 51,
      "outputs": [
        {
          "output_type": "stream",
          "text": [
            "Train on 60000 samples, validate on 10000 samples\n",
            "Epoch 1/100\n",
            "60000/60000 [==============================] - 2s 39us/step - loss: 0.2412 - acc: 0.9312 - val_loss: 0.1974 - val_acc: 0.9418\n",
            "Epoch 2/100\n",
            "60000/60000 [==============================] - 2s 39us/step - loss: 0.2329 - acc: 0.9328 - val_loss: 0.1898 - val_acc: 0.9452\n",
            "Epoch 3/100\n",
            "60000/60000 [==============================] - 2s 39us/step - loss: 0.2227 - acc: 0.9360 - val_loss: 0.1823 - val_acc: 0.9479\n",
            "Epoch 4/100\n",
            "60000/60000 [==============================] - 2s 39us/step - loss: 0.2133 - acc: 0.9383 - val_loss: 0.1754 - val_acc: 0.9487\n",
            "Epoch 5/100\n",
            "60000/60000 [==============================] - 2s 39us/step - loss: 0.2051 - acc: 0.9408 - val_loss: 0.1699 - val_acc: 0.9504\n",
            "Epoch 6/100\n",
            "60000/60000 [==============================] - 2s 39us/step - loss: 0.1996 - acc: 0.9421 - val_loss: 0.1634 - val_acc: 0.9535\n",
            "Epoch 7/100\n",
            "60000/60000 [==============================] - 2s 39us/step - loss: 0.1926 - acc: 0.9442 - val_loss: 0.1585 - val_acc: 0.9546\n",
            "Epoch 8/100\n",
            "60000/60000 [==============================] - 2s 39us/step - loss: 0.1853 - acc: 0.9463 - val_loss: 0.1537 - val_acc: 0.9548\n",
            "Epoch 9/100\n",
            "60000/60000 [==============================] - 2s 39us/step - loss: 0.1799 - acc: 0.9490 - val_loss: 0.1490 - val_acc: 0.9559\n",
            "Epoch 10/100\n",
            "60000/60000 [==============================] - 2s 39us/step - loss: 0.1757 - acc: 0.9483 - val_loss: 0.1444 - val_acc: 0.9568\n",
            "Epoch 11/100\n",
            "60000/60000 [==============================] - 2s 39us/step - loss: 0.1688 - acc: 0.9514 - val_loss: 0.1408 - val_acc: 0.9576\n",
            "Epoch 12/100\n",
            "60000/60000 [==============================] - 2s 39us/step - loss: 0.1648 - acc: 0.9524 - val_loss: 0.1376 - val_acc: 0.9585\n",
            "Epoch 13/100\n",
            "60000/60000 [==============================] - 2s 39us/step - loss: 0.1593 - acc: 0.9543 - val_loss: 0.1337 - val_acc: 0.9596\n",
            "Epoch 14/100\n",
            "60000/60000 [==============================] - 2s 39us/step - loss: 0.1567 - acc: 0.9543 - val_loss: 0.1305 - val_acc: 0.9613\n",
            "Epoch 15/100\n",
            "60000/60000 [==============================] - 2s 39us/step - loss: 0.1529 - acc: 0.9564 - val_loss: 0.1272 - val_acc: 0.9614\n",
            "Epoch 16/100\n",
            "60000/60000 [==============================] - 2s 39us/step - loss: 0.1481 - acc: 0.9578 - val_loss: 0.1244 - val_acc: 0.9618\n",
            "Epoch 17/100\n",
            "60000/60000 [==============================] - 2s 38us/step - loss: 0.1442 - acc: 0.9579 - val_loss: 0.1212 - val_acc: 0.9637\n",
            "Epoch 18/100\n",
            "60000/60000 [==============================] - 2s 39us/step - loss: 0.1431 - acc: 0.9584 - val_loss: 0.1191 - val_acc: 0.9651\n",
            "Epoch 19/100\n",
            "60000/60000 [==============================] - 2s 39us/step - loss: 0.1377 - acc: 0.9602 - val_loss: 0.1164 - val_acc: 0.9653\n",
            "Epoch 20/100\n",
            "60000/60000 [==============================] - 2s 38us/step - loss: 0.1347 - acc: 0.9610 - val_loss: 0.1144 - val_acc: 0.9653\n",
            "Epoch 21/100\n",
            "60000/60000 [==============================] - 2s 38us/step - loss: 0.1320 - acc: 0.9614 - val_loss: 0.1118 - val_acc: 0.9662\n",
            "Epoch 22/100\n",
            "60000/60000 [==============================] - 2s 38us/step - loss: 0.1280 - acc: 0.9625 - val_loss: 0.1105 - val_acc: 0.9665\n",
            "Epoch 23/100\n",
            "60000/60000 [==============================] - 2s 38us/step - loss: 0.1257 - acc: 0.9635 - val_loss: 0.1080 - val_acc: 0.9672\n",
            "Epoch 24/100\n",
            "60000/60000 [==============================] - 2s 41us/step - loss: 0.1239 - acc: 0.9638 - val_loss: 0.1069 - val_acc: 0.9675\n",
            "Epoch 25/100\n",
            "60000/60000 [==============================] - 2s 41us/step - loss: 0.1207 - acc: 0.9647 - val_loss: 0.1043 - val_acc: 0.9677\n",
            "Epoch 26/100\n",
            "60000/60000 [==============================] - 2s 39us/step - loss: 0.1192 - acc: 0.9647 - val_loss: 0.1029 - val_acc: 0.9682\n",
            "Epoch 27/100\n",
            "60000/60000 [==============================] - 2s 38us/step - loss: 0.1165 - acc: 0.9658 - val_loss: 0.1015 - val_acc: 0.9687\n",
            "Epoch 28/100\n",
            "60000/60000 [==============================] - 2s 38us/step - loss: 0.1140 - acc: 0.9666 - val_loss: 0.0998 - val_acc: 0.9691\n",
            "Epoch 29/100\n",
            "60000/60000 [==============================] - 2s 39us/step - loss: 0.1118 - acc: 0.9681 - val_loss: 0.0987 - val_acc: 0.9695\n",
            "Epoch 30/100\n",
            "60000/60000 [==============================] - 2s 39us/step - loss: 0.1112 - acc: 0.9676 - val_loss: 0.0971 - val_acc: 0.9702\n",
            "Epoch 31/100\n",
            "60000/60000 [==============================] - 2s 38us/step - loss: 0.1084 - acc: 0.9681 - val_loss: 0.0951 - val_acc: 0.9699\n",
            "Epoch 32/100\n",
            "60000/60000 [==============================] - 2s 39us/step - loss: 0.1055 - acc: 0.9692 - val_loss: 0.0941 - val_acc: 0.9704\n",
            "Epoch 33/100\n",
            "60000/60000 [==============================] - 2s 39us/step - loss: 0.1038 - acc: 0.9698 - val_loss: 0.0932 - val_acc: 0.9708\n",
            "Epoch 34/100\n",
            "60000/60000 [==============================] - 2s 39us/step - loss: 0.1027 - acc: 0.9701 - val_loss: 0.0913 - val_acc: 0.9716\n",
            "Epoch 35/100\n",
            "60000/60000 [==============================] - 2s 38us/step - loss: 0.1014 - acc: 0.9700 - val_loss: 0.0907 - val_acc: 0.9718\n",
            "Epoch 36/100\n",
            "60000/60000 [==============================] - 2s 38us/step - loss: 0.0994 - acc: 0.9710 - val_loss: 0.0895 - val_acc: 0.9723\n",
            "Epoch 37/100\n",
            "60000/60000 [==============================] - 2s 39us/step - loss: 0.0966 - acc: 0.9718 - val_loss: 0.0886 - val_acc: 0.9723\n",
            "Epoch 38/100\n",
            "60000/60000 [==============================] - 2s 38us/step - loss: 0.0960 - acc: 0.9721 - val_loss: 0.0882 - val_acc: 0.9720\n",
            "Epoch 39/100\n",
            "60000/60000 [==============================] - 2s 38us/step - loss: 0.0936 - acc: 0.9730 - val_loss: 0.0867 - val_acc: 0.9731\n",
            "Epoch 40/100\n",
            "60000/60000 [==============================] - 2s 38us/step - loss: 0.0927 - acc: 0.9728 - val_loss: 0.0859 - val_acc: 0.9736\n",
            "Epoch 41/100\n",
            "60000/60000 [==============================] - 2s 38us/step - loss: 0.0908 - acc: 0.9732 - val_loss: 0.0847 - val_acc: 0.9735\n",
            "Epoch 42/100\n",
            "60000/60000 [==============================] - 2s 39us/step - loss: 0.0898 - acc: 0.9741 - val_loss: 0.0837 - val_acc: 0.9740\n",
            "Epoch 43/100\n",
            "60000/60000 [==============================] - 2s 38us/step - loss: 0.0867 - acc: 0.9742 - val_loss: 0.0827 - val_acc: 0.9747\n",
            "Epoch 44/100\n",
            "60000/60000 [==============================] - 2s 38us/step - loss: 0.0872 - acc: 0.9750 - val_loss: 0.0818 - val_acc: 0.9742\n",
            "Epoch 45/100\n",
            "60000/60000 [==============================] - 2s 38us/step - loss: 0.0853 - acc: 0.9749 - val_loss: 0.0812 - val_acc: 0.9748\n",
            "Epoch 46/100\n",
            "60000/60000 [==============================] - 2s 39us/step - loss: 0.0832 - acc: 0.9755 - val_loss: 0.0808 - val_acc: 0.9758\n",
            "Epoch 47/100\n",
            "60000/60000 [==============================] - 2s 38us/step - loss: 0.0835 - acc: 0.9751 - val_loss: 0.0797 - val_acc: 0.9748\n",
            "Epoch 48/100\n",
            "60000/60000 [==============================] - 2s 38us/step - loss: 0.0823 - acc: 0.9756 - val_loss: 0.0788 - val_acc: 0.9758\n",
            "Epoch 49/100\n",
            "60000/60000 [==============================] - 2s 38us/step - loss: 0.0804 - acc: 0.9764 - val_loss: 0.0786 - val_acc: 0.9756\n",
            "Epoch 50/100\n",
            "60000/60000 [==============================] - 2s 38us/step - loss: 0.0802 - acc: 0.9763 - val_loss: 0.0779 - val_acc: 0.9756\n",
            "Epoch 51/100\n",
            "60000/60000 [==============================] - 2s 38us/step - loss: 0.0783 - acc: 0.9764 - val_loss: 0.0774 - val_acc: 0.9759\n",
            "Epoch 52/100\n",
            "60000/60000 [==============================] - 2s 38us/step - loss: 0.0766 - acc: 0.9775 - val_loss: 0.0763 - val_acc: 0.9761\n",
            "Epoch 53/100\n",
            "60000/60000 [==============================] - 2s 38us/step - loss: 0.0762 - acc: 0.9773 - val_loss: 0.0758 - val_acc: 0.9770\n",
            "Epoch 54/100\n",
            "60000/60000 [==============================] - 2s 38us/step - loss: 0.0742 - acc: 0.9778 - val_loss: 0.0755 - val_acc: 0.9766\n",
            "Epoch 55/100\n",
            "60000/60000 [==============================] - 2s 38us/step - loss: 0.0742 - acc: 0.9781 - val_loss: 0.0745 - val_acc: 0.9765\n",
            "Epoch 56/100\n",
            "60000/60000 [==============================] - 2s 38us/step - loss: 0.0727 - acc: 0.9787 - val_loss: 0.0741 - val_acc: 0.9767\n",
            "Epoch 57/100\n",
            "60000/60000 [==============================] - 2s 38us/step - loss: 0.0718 - acc: 0.9792 - val_loss: 0.0736 - val_acc: 0.9773\n",
            "Epoch 58/100\n",
            "60000/60000 [==============================] - 2s 38us/step - loss: 0.0716 - acc: 0.9790 - val_loss: 0.0728 - val_acc: 0.9776\n",
            "Epoch 59/100\n",
            "60000/60000 [==============================] - 2s 38us/step - loss: 0.0707 - acc: 0.9791 - val_loss: 0.0726 - val_acc: 0.9770\n",
            "Epoch 60/100\n",
            "60000/60000 [==============================] - 2s 39us/step - loss: 0.0680 - acc: 0.9803 - val_loss: 0.0722 - val_acc: 0.9774\n",
            "Epoch 61/100\n",
            "60000/60000 [==============================] - 2s 39us/step - loss: 0.0679 - acc: 0.9806 - val_loss: 0.0715 - val_acc: 0.9778\n",
            "Epoch 62/100\n",
            "60000/60000 [==============================] - 2s 39us/step - loss: 0.0680 - acc: 0.9804 - val_loss: 0.0714 - val_acc: 0.9774\n",
            "Epoch 63/100\n",
            "60000/60000 [==============================] - 2s 38us/step - loss: 0.0670 - acc: 0.9799 - val_loss: 0.0705 - val_acc: 0.9784\n",
            "Epoch 64/100\n",
            "60000/60000 [==============================] - 2s 39us/step - loss: 0.0672 - acc: 0.9800 - val_loss: 0.0699 - val_acc: 0.9782\n",
            "Epoch 65/100\n",
            "60000/60000 [==============================] - 2s 39us/step - loss: 0.0649 - acc: 0.9809 - val_loss: 0.0696 - val_acc: 0.9790\n",
            "Epoch 66/100\n",
            "60000/60000 [==============================] - 2s 39us/step - loss: 0.0639 - acc: 0.9808 - val_loss: 0.0694 - val_acc: 0.9780\n",
            "Epoch 67/100\n",
            "60000/60000 [==============================] - 2s 39us/step - loss: 0.0639 - acc: 0.9807 - val_loss: 0.0689 - val_acc: 0.9780\n",
            "Epoch 68/100\n",
            "60000/60000 [==============================] - 2s 39us/step - loss: 0.0618 - acc: 0.9823 - val_loss: 0.0683 - val_acc: 0.9785\n",
            "Epoch 69/100\n",
            "60000/60000 [==============================] - 2s 39us/step - loss: 0.0620 - acc: 0.9820 - val_loss: 0.0681 - val_acc: 0.9794\n",
            "Epoch 70/100\n",
            "60000/60000 [==============================] - 2s 39us/step - loss: 0.0602 - acc: 0.9818 - val_loss: 0.0679 - val_acc: 0.9790\n",
            "Epoch 71/100\n",
            "60000/60000 [==============================] - 2s 39us/step - loss: 0.0600 - acc: 0.9825 - val_loss: 0.0676 - val_acc: 0.9792\n",
            "Epoch 72/100\n",
            "60000/60000 [==============================] - 2s 39us/step - loss: 0.0591 - acc: 0.9826 - val_loss: 0.0666 - val_acc: 0.9791\n",
            "Epoch 73/100\n",
            "60000/60000 [==============================] - 2s 39us/step - loss: 0.0588 - acc: 0.9829 - val_loss: 0.0667 - val_acc: 0.9795\n",
            "Epoch 74/100\n",
            "60000/60000 [==============================] - 2s 38us/step - loss: 0.0603 - acc: 0.9819 - val_loss: 0.0662 - val_acc: 0.9799\n",
            "Epoch 75/100\n",
            "60000/60000 [==============================] - 2s 38us/step - loss: 0.0572 - acc: 0.9837 - val_loss: 0.0660 - val_acc: 0.9797\n",
            "Epoch 76/100\n",
            "60000/60000 [==============================] - 2s 39us/step - loss: 0.0566 - acc: 0.9831 - val_loss: 0.0656 - val_acc: 0.9800\n",
            "Epoch 77/100\n",
            "60000/60000 [==============================] - 2s 39us/step - loss: 0.0572 - acc: 0.9832 - val_loss: 0.0660 - val_acc: 0.9800\n",
            "Epoch 78/100\n",
            "60000/60000 [==============================] - 2s 40us/step - loss: 0.0563 - acc: 0.9836 - val_loss: 0.0654 - val_acc: 0.9796\n",
            "Epoch 79/100\n",
            "60000/60000 [==============================] - 2s 41us/step - loss: 0.0555 - acc: 0.9841 - val_loss: 0.0651 - val_acc: 0.9797\n",
            "Epoch 80/100\n",
            "60000/60000 [==============================] - 2s 41us/step - loss: 0.0545 - acc: 0.9841 - val_loss: 0.0644 - val_acc: 0.9801\n",
            "Epoch 81/100\n",
            "60000/60000 [==============================] - 2s 41us/step - loss: 0.0539 - acc: 0.9844 - val_loss: 0.0642 - val_acc: 0.9799\n",
            "Epoch 82/100\n",
            "60000/60000 [==============================] - 2s 41us/step - loss: 0.0533 - acc: 0.9843 - val_loss: 0.0641 - val_acc: 0.9803\n",
            "Epoch 83/100\n",
            "60000/60000 [==============================] - 2s 39us/step - loss: 0.0526 - acc: 0.9847 - val_loss: 0.0636 - val_acc: 0.9801\n",
            "Epoch 84/100\n",
            "60000/60000 [==============================] - 2s 39us/step - loss: 0.0522 - acc: 0.9844 - val_loss: 0.0636 - val_acc: 0.9804\n",
            "Epoch 85/100\n",
            "60000/60000 [==============================] - 2s 39us/step - loss: 0.0521 - acc: 0.9851 - val_loss: 0.0633 - val_acc: 0.9804\n",
            "Epoch 86/100\n",
            "60000/60000 [==============================] - 2s 39us/step - loss: 0.0505 - acc: 0.9857 - val_loss: 0.0627 - val_acc: 0.9803\n",
            "Epoch 87/100\n",
            "60000/60000 [==============================] - 2s 39us/step - loss: 0.0506 - acc: 0.9849 - val_loss: 0.0625 - val_acc: 0.9803\n",
            "Epoch 88/100\n",
            "60000/60000 [==============================] - 2s 39us/step - loss: 0.0489 - acc: 0.9858 - val_loss: 0.0624 - val_acc: 0.9807\n",
            "Epoch 89/100\n",
            "60000/60000 [==============================] - 2s 39us/step - loss: 0.0496 - acc: 0.9852 - val_loss: 0.0623 - val_acc: 0.9799\n",
            "Epoch 90/100\n",
            "60000/60000 [==============================] - 2s 39us/step - loss: 0.0492 - acc: 0.9859 - val_loss: 0.0624 - val_acc: 0.9799\n",
            "Epoch 91/100\n",
            "60000/60000 [==============================] - 2s 39us/step - loss: 0.0488 - acc: 0.9856 - val_loss: 0.0618 - val_acc: 0.9811\n",
            "Epoch 92/100\n",
            "60000/60000 [==============================] - 2s 39us/step - loss: 0.0486 - acc: 0.9855 - val_loss: 0.0612 - val_acc: 0.9811\n",
            "Epoch 93/100\n",
            "60000/60000 [==============================] - 2s 39us/step - loss: 0.0475 - acc: 0.9861 - val_loss: 0.0612 - val_acc: 0.9810\n",
            "Epoch 94/100\n",
            "60000/60000 [==============================] - 2s 39us/step - loss: 0.0464 - acc: 0.9869 - val_loss: 0.0610 - val_acc: 0.9809\n",
            "Epoch 95/100\n",
            "60000/60000 [==============================] - 2s 39us/step - loss: 0.0466 - acc: 0.9865 - val_loss: 0.0606 - val_acc: 0.9813\n",
            "Epoch 96/100\n",
            "60000/60000 [==============================] - 2s 39us/step - loss: 0.0456 - acc: 0.9870 - val_loss: 0.0604 - val_acc: 0.9808\n",
            "Epoch 97/100\n",
            "60000/60000 [==============================] - 2s 39us/step - loss: 0.0449 - acc: 0.9867 - val_loss: 0.0604 - val_acc: 0.9812\n",
            "Epoch 98/100\n",
            "60000/60000 [==============================] - 2s 39us/step - loss: 0.0464 - acc: 0.9865 - val_loss: 0.0599 - val_acc: 0.9809\n",
            "Epoch 99/100\n",
            "60000/60000 [==============================] - 2s 39us/step - loss: 0.0451 - acc: 0.9866 - val_loss: 0.0600 - val_acc: 0.9812\n",
            "Epoch 100/100\n",
            "60000/60000 [==============================] - 2s 39us/step - loss: 0.0445 - acc: 0.9869 - val_loss: 0.0596 - val_acc: 0.9807\n"
          ],
          "name": "stdout"
        }
      ]
    },
    {
      "metadata": {
        "id": "4IoAEfbhOlJc",
        "colab_type": "text"
      },
      "cell_type": "markdown",
      "source": [
        "## บันทึกโมเดล (Model) ในรูปแบบของ h5 (HDF5)"
      ]
    },
    {
      "metadata": {
        "id": "d_WH51SAF5eW",
        "colab_type": "code",
        "colab": {}
      },
      "cell_type": "code",
      "source": [
        "model.save(\"/content/drive/My Drive/Colab Notebooks/deep-learning/model.h5\")"
      ],
      "execution_count": 0,
      "outputs": []
    },
    {
      "metadata": {
        "id": "W-tws4WTIK0P",
        "colab_type": "text"
      },
      "cell_type": "markdown",
      "source": [
        "อ่านเพิ่มเติม: https://machinelearningmastery.com/display-deep-learning-model-training-history-in-keras/"
      ]
    },
    {
      "metadata": {
        "id": "GErg0OOROrDr",
        "colab_type": "text"
      },
      "cell_type": "markdown",
      "source": [
        "# ตรวจสอบความถูกต้องของโมเดลที่ได้จากการเรียนรู้\n",
        "\n",
        "จากตัวอย่างโปรแกรม ได้เก็บผลของการเรียนรู้ไว้ในตัวแปรชื่อ **history**  \n",
        "\n",
        "```\n",
        "history = model.fit(x_train, y_train,\n",
        "                    batch_size=batch_size,\n",
        "                    epochs=epochs,\n",
        "                    verbose=1,\n",
        "                    validation_data=(x_test, y_test))\n",
        "```                    \n",
        "                    "
      ]
    },
    {
      "metadata": {
        "id": "N7-1azHWPL5O",
        "colab_type": "text"
      },
      "cell_type": "markdown",
      "source": [
        "## แสดงข้อมูลการเรียนรู้ของโมเดลด้วยกราฟ"
      ]
    },
    {
      "metadata": {
        "id": "c_aauZT3GIoO",
        "colab_type": "code",
        "colab": {
          "base_uri": "https://localhost:8080/",
          "height": 34
        },
        "outputId": "0367be17-a418-401c-d963-d327ea15eff5"
      },
      "cell_type": "code",
      "source": [
        "# list all data in history\n",
        "print(history.history.keys())"
      ],
      "execution_count": 52,
      "outputs": [
        {
          "output_type": "stream",
          "text": [
            "dict_keys(['val_loss', 'val_acc', 'loss', 'acc'])\n"
          ],
          "name": "stdout"
        }
      ]
    },
    {
      "metadata": {
        "id": "1qRi2UN5Rcjf",
        "colab_type": "code",
        "colab": {
          "base_uri": "https://localhost:8080/",
          "height": 54
        },
        "outputId": "ddd5c594-f5de-4016-b224-1f840fbc1473"
      },
      "cell_type": "code",
      "source": [
        "print('history dict:', history.history)"
      ],
      "execution_count": 53,
      "outputs": [
        {
          "output_type": "stream",
          "text": [
            "history dict: {'val_loss': [0.19735034425258635, 0.18983201158046722, 0.1822944172024727, 0.17544022617340088, 0.16985957601666452, 0.16344990571141244, 0.15854541912674905, 0.15365464341640472, 0.14902542625069617, 0.14437987454533577, 0.1407592796266079, 0.1376043410897255, 0.13373939583301545, 0.1304707374572754, 0.12720360865294933, 0.12442818039059639, 0.12117353544533253, 0.11908785718381405, 0.11639974756240845, 0.11437083796262741, 0.11182932600080966, 0.11045192975997925, 0.10803091125190258, 0.10693873628675937, 0.10429615256339311, 0.10290701845139265, 0.1014837173447013, 0.09977984395772219, 0.09871830847263337, 0.09711981489062309, 0.09509047399014235, 0.09410012243241071, 0.09318696249201894, 0.09126006976217031, 0.09068664947599173, 0.08949950521513819, 0.08862993307188154, 0.08815031028911471, 0.0867207083158195, 0.08587297188192607, 0.08474028744399548, 0.08367146722301841, 0.08273278148770333, 0.08181232685670256, 0.08122153893411159, 0.08081959369219839, 0.07970169560387731, 0.07882965628653765, 0.07860574832446873, 0.07794793039038778, 0.07744301383942366, 0.07633566185459495, 0.07576685561090708, 0.07545250937715173, 0.0744557877652347, 0.07414726867750288, 0.07357567028030754, 0.07278430777713657, 0.07264901027157902, 0.07215042650178075, 0.07145838515236974, 0.07136620224229992, 0.0705472977142781, 0.06991054389644415, 0.06957964458055794, 0.06937783472314477, 0.0688947538357228, 0.06830532695502042, 0.06812883572466671, 0.06788885630462319, 0.06757656418792904, 0.06659299281165004, 0.0667035286359489, 0.06618320825733244, 0.06595814993567765, 0.06559958399683237, 0.06597578373178839, 0.06537390081509947, 0.06506191167347133, 0.06435116006359458, 0.06422304049534723, 0.06411261154431849, 0.06359020816478879, 0.06362015661541373, 0.06328526233248413, 0.06274131342675537, 0.06252812434295192, 0.06238023556927219, 0.062259025863185526, 0.062353017996810374, 0.06178383458415046, 0.061176223118416966, 0.06121151050664485, 0.061027636391110716, 0.06060959360823035, 0.060400213528145105, 0.060412400577310475, 0.0598973221777007, 0.06004728001817129, 0.059595905978232624], 'val_acc': [0.9418, 0.9452, 0.9479, 0.9487, 0.9504, 0.9535, 0.9546, 0.9548, 0.9559, 0.9568, 0.9576, 0.9585, 0.9596, 0.9613, 0.9614, 0.9618, 0.9637, 0.9651, 0.9653, 0.9653, 0.9662, 0.9665, 0.9672, 0.9675, 0.9677, 0.9682, 0.9687, 0.9691, 0.9695, 0.9702, 0.9699, 0.9704, 0.9708, 0.9716, 0.9718, 0.9723, 0.9723, 0.972, 0.9731, 0.9736, 0.9735, 0.974, 0.9747, 0.9742, 0.9748, 0.9758, 0.9748, 0.9758, 0.9756, 0.9756, 0.9759, 0.9761, 0.977, 0.9766, 0.9765, 0.9767, 0.9773, 0.9776, 0.977, 0.9774, 0.9778, 0.9774, 0.9784, 0.9782, 0.979, 0.978, 0.978, 0.9785, 0.9794, 0.979, 0.9792, 0.9791, 0.9795, 0.9799, 0.9797, 0.98, 0.98, 0.9796, 0.9797, 0.9801, 0.9799, 0.9803, 0.9801, 0.9804, 0.9804, 0.9803, 0.9803, 0.9807, 0.9799, 0.9799, 0.9811, 0.9811, 0.981, 0.9809, 0.9813, 0.9808, 0.9812, 0.9809, 0.9812, 0.9807], 'loss': [0.24121146128177642, 0.23289219946861267, 0.22273207090695699, 0.21329983829657237, 0.2051375221411387, 0.19960145041942595, 0.1925730171918869, 0.18529927752017974, 0.17993857804139454, 0.17574510561625162, 0.16881634198824563, 0.164819362839063, 0.15925847151279449, 0.15669338425795237, 0.15291516130765279, 0.14807997586727142, 0.14415541687806446, 0.14309751448631286, 0.1376776506702105, 0.13473631641864778, 0.13199222028255464, 0.12804923668702445, 0.12570136792659758, 0.12394232794443766, 0.12065679587523143, 0.11923334843317668, 0.11651940945386886, 0.1139549445827802, 0.11183313229084015, 0.11116583110491435, 0.10838940050999324, 0.10551276091734568, 0.10378020624717077, 0.10273191395600637, 0.10139006014267604, 0.09938686070044836, 0.09655401151974996, 0.09604060674905777, 0.09360581750472387, 0.09269907247622808, 0.09080002991755803, 0.0897642192920049, 0.08667125171025594, 0.08717390947341919, 0.08525547587474187, 0.083164805773894, 0.08350347596009572, 0.08229225463072459, 0.08037786076664924, 0.08022303596337636, 0.0783283256828785, 0.07662460987170537, 0.07621847916444142, 0.07417832409143447, 0.07420025184651216, 0.0727260945002238, 0.07180105743606885, 0.07157689882318179, 0.07074767581820487, 0.06796700338522593, 0.06788253412246704, 0.06799179637829462, 0.06703584799170494, 0.06721037169893583, 0.06490706839760145, 0.06385907892882824, 0.06387315475940704, 0.061772188510497414, 0.06203922192056974, 0.060221843039989474, 0.059962801496187844, 0.059117130174239474, 0.05878971419731776, 0.060347840855518975, 0.05719242681066195, 0.05658156979481379, 0.05718082273205121, 0.05629619942506155, 0.05551842190027237, 0.054469717637697854, 0.05393849354783694, 0.05330512978633245, 0.05255062427421411, 0.05217696681022644, 0.05213181758224964, 0.05045989503314098, 0.05059544599453608, 0.04894095216194789, 0.0495744425624609, 0.04919379545450211, 0.048839474474887054, 0.04862463264564673, 0.04748561357259751, 0.04644079930981, 0.04655536806881428, 0.04561006517211596, 0.04492082195281982, 0.046377978322903315, 0.045132927856842676, 0.04448796016573906], 'acc': [0.9312499999682109, 0.93285, 0.9359500000317892, 0.9383166666984558, 0.9408166666666666, 0.9421166666984558, 0.9442333333651225, 0.9463166666984558, 0.9490166666666666, 0.9483333333651225, 0.9514166666984558, 0.9523666666666667, 0.9543499999682109, 0.9542666666666667, 0.9563833333333334, 0.9578166666666666, 0.95795, 0.9583999999682109, 0.96015, 0.9609666666348775, 0.9613833333651225, 0.9624500000317892, 0.9635333333651225, 0.9637833333015442, 0.9646833333333333, 0.9646500000317891, 0.9657666666984558, 0.9666333333333333, 0.9681499999682108, 0.9676333333651225, 0.9680833333015442, 0.9691666666348775, 0.9698333333015442, 0.9700666666348775, 0.9699666666984558, 0.9709666666348775, 0.9718000000317891, 0.9721166666348775, 0.9730000000317891, 0.9727833333651225, 0.9731999999682108, 0.9740666666666666, 0.9742, 0.9749666666348775, 0.9749333333015442, 0.9754999999682109, 0.97515, 0.9755666666984558, 0.9764333333015441, 0.9762833333015442, 0.9763666666984558, 0.9775166666348776, 0.9772833333015442, 0.9777833333333333, 0.97815, 0.9787000000317891, 0.9792499999682108, 0.9790333333333333, 0.9790666666666666, 0.9803166666348775, 0.9806, 0.9804333333333334, 0.9799333333651224, 0.9799833333651224, 0.9808666666984558, 0.9807833333333333, 0.9807000000317891, 0.9822999999682108, 0.9819999999682109, 0.9818166666348775, 0.9825333333333334, 0.9825666666984558, 0.9828999999682109, 0.9819166666666667, 0.9837333333015442, 0.9831333333015442, 0.9832166666984559, 0.9836499999682109, 0.9841333333651224, 0.9841166666348775, 0.9844499999682108, 0.9843166666666666, 0.9847166666666667, 0.9843500000317892, 0.9850833333333333, 0.98565, 0.9848666666666667, 0.9858166666348775, 0.9851666666984558, 0.9858833333015442, 0.9856333333333334, 0.9855333333015441, 0.9861499999682108, 0.9868833333651225, 0.98645, 0.9870333333333333, 0.9867, 0.98645, 0.9865833333333334, 0.9869166666348775]}\n"
          ],
          "name": "stdout"
        }
      ]
    },
    {
      "metadata": {
        "id": "xb4OTu-LGoY6",
        "colab_type": "code",
        "colab": {
          "base_uri": "https://localhost:8080/",
          "height": 573
        },
        "outputId": "9b836b6e-90a5-4918-c373-35b2f801b74d"
      },
      "cell_type": "code",
      "source": [
        "# Visualize training history\n",
        "from keras.models import Sequential\n",
        "from keras.layers import Dense\n",
        "import matplotlib.pyplot as plt\n",
        "import numpy\n",
        "\n",
        "# summarize history for accuracy\n",
        "plt.plot(history.history['acc'])\n",
        "plt.plot(history.history['val_acc'])\n",
        "plt.title('model accuracy')\n",
        "plt.ylabel('accuracy')\n",
        "plt.xlabel('epoch')\n",
        "plt.legend(['train', 'test'], loc='upper left')\n",
        "plt.show()\n",
        "\n",
        "# summarize history for loss\n",
        "plt.plot(history.history['loss'])\n",
        "plt.plot(history.history['val_loss'])\n",
        "plt.title('model loss')\n",
        "plt.ylabel('loss')\n",
        "plt.xlabel('epoch')\n",
        "plt.legend(['train', 'test'], loc='upper left')\n",
        "plt.show()"
      ],
      "execution_count": 54,
      "outputs": [
        {
          "output_type": "display_data",
          "data": {
            "image/png": "[encoded data removed]",
            "text/plain": [
              "<Figure size 432x288 with 1 Axes>"
            ]
          },
          "metadata": {
            "tags": []
          }
        },
        {
          "output_type": "display_data",
          "data": {
            "image/png": "[encoded data removed]",
            "text/plain": [
              "<Figure size 432x288 with 1 Axes>"
            ]
          },
          "metadata": {
            "tags": []
          }
        }
      ]
    },
    {
      "metadata": {
        "id": "L8nLA4oDPzqc",
        "colab_type": "text"
      },
      "cell_type": "markdown",
      "source": [
        "อ่านรายละเอียดเพิ่มเติม: \n",
        "*  https://www.kaggle.com/danbrice/keras-plot-history-full-report-and-grid-search\n",
        "*  https://www.tensorflow.org/alpha/guide/keras/training_and_evaluation"
      ]
    },
    {
      "metadata": {
        "id": "a-460vhQUyDJ",
        "colab_type": "text"
      },
      "cell_type": "markdown",
      "source": [
        "## พยากรณ์ (Predict) ข้อมูลชุดทดสอบ (Test data) "
      ]
    },
    {
      "metadata": {
        "id": "LFzpIzYtVLI4",
        "colab_type": "text"
      },
      "cell_type": "markdown",
      "source": [
        "### ใช้คำสั่ง predict"
      ]
    },
    {
      "metadata": {
        "id": "9NCdsG-vGzNz",
        "colab_type": "code",
        "colab": {}
      },
      "cell_type": "code",
      "source": [
        "y_pred = model.predict(x_test)"
      ],
      "execution_count": 0,
      "outputs": []
    },
    {
      "metadata": {
        "id": "s_hbIaXyQX1q",
        "colab_type": "code",
        "colab": {
          "base_uri": "https://localhost:8080/",
          "height": 86
        },
        "outputId": "e852267c-ae7b-4384-a960-c273c8dae6ac"
      },
      "cell_type": "code",
      "source": [
        "print(y_pred.shape)\n",
        "\n",
        "print('y_pred', y_pred[0])\n",
        "print('y_test', y_test[0])"
      ],
      "execution_count": 78,
      "outputs": [
        {
          "output_type": "stream",
          "text": [
            "(10000, 10)\n",
            "y_pred [2.8305499e-07 4.7998714e-07 6.9041039e-06 2.3277753e-04 3.8535726e-09\n",
            " 1.1705325e-06 9.0329320e-11 9.9974507e-01 3.2681123e-07 1.2924816e-05]\n",
            "y_test [0. 0. 0. 0. 0. 0. 0. 1. 0. 0.]\n"
          ],
          "name": "stdout"
        }
      ]
    },
    {
      "metadata": {
        "id": "7h-IXdEOSm1E",
        "colab_type": "code",
        "colab": {
          "base_uri": "https://localhost:8080/",
          "height": 69
        },
        "outputId": "9c727b1b-f209-47ed-d02a-00ad2dd03912"
      },
      "cell_type": "code",
      "source": [
        "# Generate predictions (probabilities -- the output of the last layer)\n",
        "# on new data using `predict`\n",
        "print('\\n# Generate predictions for 3 samples')\n",
        "predictions = model.predict(x_test[:3])\n",
        "print('predictions shape:', predictions.shape)"
      ],
      "execution_count": 59,
      "outputs": [
        {
          "output_type": "stream",
          "text": [
            "\n",
            "# Generate predictions for 3 samples\n",
            "predictions shape: (3, 10)\n"
          ],
          "name": "stdout"
        }
      ]
    },
    {
      "metadata": {
        "id": "1lcq6XqkSst7",
        "colab_type": "code",
        "colab": {
          "base_uri": "https://localhost:8080/",
          "height": 69
        },
        "outputId": "509ffc83-e6b8-4142-9b9e-fb26ec3222a0"
      },
      "cell_type": "code",
      "source": [
        "predictions[0]"
      ],
      "execution_count": 60,
      "outputs": [
        {
          "output_type": "execute_result",
          "data": {
            "text/plain": [
              "array([2.8305499e-07, 4.7998714e-07, 6.9041039e-06, 2.3277753e-04,\n",
              "       3.8535726e-09, 1.1705325e-06, 9.0329320e-11, 9.9974507e-01,\n",
              "       3.2681123e-07, 1.2924816e-05], dtype=float32)"
            ]
          },
          "metadata": {
            "tags": []
          },
          "execution_count": 60
        }
      ]
    },
    {
      "metadata": {
        "id": "VCyZLX3LVNmD",
        "colab_type": "text"
      },
      "cell_type": "markdown",
      "source": [
        "### ใช้คำสั่ง evaluate"
      ]
    },
    {
      "metadata": {
        "id": "6n4AQUXsSgNZ",
        "colab_type": "code",
        "colab": {
          "base_uri": "https://localhost:8080/",
          "height": 86
        },
        "outputId": "56b77bd0-acb5-4557-bdb6-3b19169fb382"
      },
      "cell_type": "code",
      "source": [
        "# Evaluate the model on the test data using `evaluate`\n",
        "print('\\n# Evaluate on test data')\n",
        "results = model.evaluate(x_test, y_test, batch_size=batch_size)\n",
        "print('test loss, test acc:', results)\n"
      ],
      "execution_count": 58,
      "outputs": [
        {
          "output_type": "stream",
          "text": [
            "\n",
            "# Evaluate on test data\n",
            "10000/10000 [==============================] - 0s 16us/step\n",
            "test loss, test acc: [0.059595905978232624, 0.9807]\n"
          ],
          "name": "stdout"
        }
      ]
    },
    {
      "metadata": {
        "id": "WLA6uwiEok1J",
        "colab_type": "text"
      },
      "cell_type": "markdown",
      "source": [
        "อ่านเพิ่มเติม:  \n",
        "* https://machinelearningmastery.com/evaluate-performance-deep-learning-models-keras/\n",
        "* https://www.tensorflow.org/alpha/guide/keras/training_and_evaluation"
      ]
    },
    {
      "metadata": {
        "id": "e3iFeYLZoXan",
        "colab_type": "text"
      },
      "cell_type": "markdown",
      "source": [
        "### Accuracy result"
      ]
    },
    {
      "metadata": {
        "id": "9AEG90s0VsS-",
        "colab_type": "code",
        "colab": {
          "base_uri": "https://localhost:8080/",
          "height": 34
        },
        "outputId": "7e05c250-394d-4e76-d5f6-1176ba65cfd2"
      },
      "cell_type": "code",
      "source": [
        "print(\"%s: %.2f%%\" % (model.metrics_names[1], results[1]*100))"
      ],
      "execution_count": 75,
      "outputs": [
        {
          "output_type": "stream",
          "text": [
            "acc: 98.07%\n"
          ],
          "name": "stdout"
        }
      ]
    },
    {
      "metadata": {
        "id": "m91mO41Vo_Md",
        "colab_type": "text"
      },
      "cell_type": "markdown",
      "source": [
        "## Confusion Matrix"
      ]
    },
    {
      "metadata": {
        "id": "u66ybptnpE1c",
        "colab_type": "code",
        "colab": {}
      },
      "cell_type": "code",
      "source": [
        "(xx_train, yy_train), (xx_test, yy_test) = mnist.load_data()"
      ],
      "execution_count": 0,
      "outputs": []
    },
    {
      "metadata": {
        "id": "tjzwlgnMK78_",
        "colab_type": "text"
      },
      "cell_type": "markdown",
      "source": [
        "ตัวอย่าง Label ข้อมูลชุดเรียนรู้ (Test Data)"
      ]
    },
    {
      "metadata": {
        "id": "rnfiabgRqJIE",
        "colab_type": "code",
        "colab": {
          "base_uri": "https://localhost:8080/",
          "height": 34
        },
        "outputId": "50b3bf77-9144-4242-87c8-d8ffc3cdde29"
      },
      "cell_type": "code",
      "source": [
        "print(yy_test)"
      ],
      "execution_count": 116,
      "outputs": [
        {
          "output_type": "stream",
          "text": [
            "[7 2 1 ... 4 5 6]\n"
          ],
          "name": "stdout"
        }
      ]
    },
    {
      "metadata": {
        "id": "ZDBjyuQGLATR",
        "colab_type": "text"
      },
      "cell_type": "markdown",
      "source": [
        "ตัวอย่าง ผลลัพธ์ที่ได้จากการพยากรณ์"
      ]
    },
    {
      "metadata": {
        "id": "7sabqxBys2Rr",
        "colab_type": "code",
        "colab": {
          "base_uri": "https://localhost:8080/",
          "height": 243
        },
        "outputId": "61298097-dd25-4886-a1f4-4ccd9b84b430"
      },
      "cell_type": "code",
      "source": [
        "print(y_pred)"
      ],
      "execution_count": 117,
      "outputs": [
        {
          "output_type": "stream",
          "text": [
            "[[2.8305499e-07 4.7998714e-07 6.9041039e-06 ... 9.9974507e-01\n",
            "  3.2681123e-07 1.2924816e-05]\n",
            " [2.1878357e-06 1.5107222e-04 9.9966800e-01 ... 3.1947034e-09\n",
            "  1.2151856e-05 5.9145314e-11]\n",
            " [1.6837515e-06 9.9890566e-01 1.6402629e-04 ... 5.3358654e-04\n",
            "  2.0243537e-04 1.7475635e-06]\n",
            " ...\n",
            " [1.0256141e-10 5.3352625e-09 2.4906754e-10 ... 1.0818295e-06\n",
            "  1.0676994e-06 9.7464899e-06]\n",
            " [1.3382720e-07 1.2067730e-08 1.0490702e-09 ... 5.5035221e-09\n",
            "  9.8337216e-05 1.7661382e-09]\n",
            " [1.9383447e-07 1.1936387e-09 5.8192335e-08 ... 1.2628912e-11\n",
            "  1.6190147e-09 1.2623385e-09]]\n"
          ],
          "name": "stdout"
        }
      ]
    },
    {
      "metadata": {
        "id": "1X4yyCxRLHoS",
        "colab_type": "text"
      },
      "cell_type": "markdown",
      "source": [
        "### หา Index ของค่าสูงสุดในแต่ละแถว"
      ]
    },
    {
      "metadata": {
        "id": "tR5m5LhArWR3",
        "colab_type": "code",
        "colab": {
          "base_uri": "https://localhost:8080/",
          "height": 34
        },
        "outputId": "66f32b45-282d-400d-b65f-1f79d3dfc20e"
      },
      "cell_type": "code",
      "source": [
        "yy_pred = y_pred.argmax(axis=1)\n",
        "\n",
        "print(yy_pred)"
      ],
      "execution_count": 136,
      "outputs": [
        {
          "output_type": "stream",
          "text": [
            "[7 2 1 ... 4 5 6]\n"
          ],
          "name": "stdout"
        }
      ]
    },
    {
      "metadata": {
        "id": "8z2Oh_3_LUKX",
        "colab_type": "text"
      },
      "cell_type": "markdown",
      "source": [
        "### สร้าง confusion matrix"
      ]
    },
    {
      "metadata": {
        "id": "FInq8TlPLZJf",
        "colab_type": "text"
      },
      "cell_type": "markdown",
      "source": [
        "ใช้ Library ของ scikit learn ในการสร้าง confusion matrix"
      ]
    },
    {
      "metadata": {
        "id": "l5kTf6_QrpLE",
        "colab_type": "code",
        "colab": {}
      },
      "cell_type": "code",
      "source": [
        "from sklearn.metrics import confusion_matrix\n",
        "\n",
        "con_matrix = confusion_matrix(yy_test, yy_pred)"
      ],
      "execution_count": 0,
      "outputs": []
    },
    {
      "metadata": {
        "id": "jQDWVZ4zLX4w",
        "colab_type": "text"
      },
      "cell_type": "markdown",
      "source": [
        "ใช้ Library ของ seaborn ในการสร้างกราฟิก"
      ]
    },
    {
      "metadata": {
        "id": "YZDCcbmRsDhM",
        "colab_type": "code",
        "colab": {
          "base_uri": "https://localhost:8080/",
          "height": 347
        },
        "outputId": "f5e2d0ae-d0dd-4f9b-9aa0-f0cf766e3fd1"
      },
      "cell_type": "code",
      "source": [
        "import seaborn as sns; sns.set()\n",
        "\n",
        "ax = sns.heatmap(con_matrix, annot=True, fmt='d', cmap=\"YlGnBu\")"
      ],
      "execution_count": 148,
      "outputs": [
        {
          "output_type": "display_data",
          "data": {
            "image/png": "[encoded data removed]",
            "text/plain": [
              "<Figure size 576x396 with 2 Axes>"
            ]
          },
          "metadata": {
            "tags": []
          }
        }
      ]
    },
    {
      "metadata": {
        "id": "cLEbBBY39Ira",
        "colab_type": "text"
      },
      "cell_type": "markdown",
      "source": [
        "อ่าน seaborn เพิ่มเติม:\n",
        "https://seaborn.pydata.org/generated/seaborn.heatmap.html"
      ]
    },
    {
      "metadata": {
        "id": "A_wp_SCB_c7Q",
        "colab_type": "text"
      },
      "cell_type": "markdown",
      "source": [
        "# การโหลดโมเดลมาใช้งาน"
      ]
    },
    {
      "metadata": {
        "id": "TpRyfCot_rBt",
        "colab_type": "text"
      },
      "cell_type": "markdown",
      "source": [
        "รายละเอียดเพิ่มเติม:\n",
        "https://machinelearningmastery.com/save-load-keras-deep-learning-models/"
      ]
    },
    {
      "metadata": {
        "id": "Kyq7zJ5RA2C5",
        "colab_type": "text"
      },
      "cell_type": "markdown",
      "source": [
        "**วิธีที่ 1**"
      ]
    },
    {
      "metadata": {
        "id": "QrrOtYmLDg6w",
        "colab_type": "text"
      },
      "cell_type": "markdown",
      "source": [
        "สร้างฟังก์ชัน **create_model()**  เพื่อให้เรียกใช้โมเดลได้ง่ายขึ้น โดยโครงสร้างโมเดลต้องเหมือนกันกับโมเดลที่บันทึกไว้ก่อนหน้า"
      ]
    },
    {
      "metadata": {
        "id": "unKTus2gsE1g",
        "colab_type": "code",
        "colab": {}
      },
      "cell_type": "code",
      "source": [
        "def create_model():\n",
        "  inp = Input((784,))\n",
        "  x = Dense(512, activation='relu')(inp)\n",
        "  x = Dropout(0.2)(x)\n",
        "  x = Dense(512, activation='relu')(x)\n",
        "  x = Dropout(0.2)(x)\n",
        "  out = Dense(num_classes, activation='softmax')(x)\n",
        "  \n",
        "  model = Model(inp, out)\n",
        "  \n",
        "  return model"
      ],
      "execution_count": 0,
      "outputs": []
    },
    {
      "metadata": {
        "id": "-rPI-NAiD29e",
        "colab_type": "text"
      },
      "cell_type": "markdown",
      "source": [
        "โหลดโมเดลมาใช้งาน"
      ]
    },
    {
      "metadata": {
        "id": "jxh_0wYZAc3D",
        "colab_type": "code",
        "colab": {}
      },
      "cell_type": "code",
      "source": [
        "model = create_model()\n",
        "\n",
        "weights_path = '/content/drive/My Drive/Colab Notebooks/deep-learning/model.h5'\n",
        "model.load_weights(weights_path)"
      ],
      "execution_count": 0,
      "outputs": []
    },
    {
      "metadata": {
        "id": "KWfmnRxRA49S",
        "colab_type": "text"
      },
      "cell_type": "markdown",
      "source": [
        "**วิธีที่ 2**"
      ]
    },
    {
      "metadata": {
        "id": "tiKZaQ7yAw2b",
        "colab_type": "code",
        "colab": {}
      },
      "cell_type": "code",
      "source": [
        "from keras.models import load_model\n",
        "\n",
        "model_tmp = load_model(weights_path)"
      ],
      "execution_count": 0,
      "outputs": []
    },
    {
      "metadata": {
        "id": "cJ9LgHJ1BFwQ",
        "colab_type": "text"
      },
      "cell_type": "markdown",
      "source": [
        "## ทดสอบโมเดล"
      ]
    },
    {
      "metadata": {
        "id": "_FBwJ4niBAq1",
        "colab_type": "code",
        "colab": {
          "base_uri": "https://localhost:8080/",
          "height": 69
        },
        "outputId": "a4bb1693-d197-4a2a-eed0-3cef27620084"
      },
      "cell_type": "code",
      "source": [
        "print('\\n# Generate predictions for 3 samples')\n",
        "predictions = model_tmp.predict(x_test[:3])\n",
        "print('predictions shape:', predictions.shape)"
      ],
      "execution_count": 155,
      "outputs": [
        {
          "output_type": "stream",
          "text": [
            "\n",
            "# Generate predictions for 3 samples\n",
            "predictions shape: (3, 10)\n"
          ],
          "name": "stdout"
        }
      ]
    },
    {
      "metadata": {
        "id": "f0Xe8sIyBPjK",
        "colab_type": "code",
        "colab": {
          "base_uri": "https://localhost:8080/",
          "height": 121
        },
        "outputId": "e4b84d22-9fba-4bf2-d37d-c3fef92089c4"
      },
      "cell_type": "code",
      "source": [
        "print(predictions)"
      ],
      "execution_count": 156,
      "outputs": [
        {
          "output_type": "stream",
          "text": [
            "[[2.5281092e-06 1.5376789e-07 1.2454280e-04 1.8592588e-04 9.6292538e-09\n",
            "  4.6635273e-07 6.5786085e-11 9.9966991e-01 1.5555220e-06 1.4887487e-05]\n",
            " [6.6592070e-06 2.4626078e-04 9.9954021e-01 1.3055932e-04 1.4719836e-09\n",
            "  4.3441269e-06 5.3162232e-05 4.3958308e-09 1.8650506e-05 1.5412042e-10]\n",
            " [3.4355269e-06 9.9789989e-01 2.7219692e-04 1.3281609e-05 3.6100642e-04\n",
            "  3.4251811e-05 2.1597536e-04 1.0300244e-03 1.6116863e-04 8.6955852e-06]]\n"
          ],
          "name": "stdout"
        }
      ]
    },
    {
      "metadata": {
        "id": "u0tjSsqwESbv",
        "colab_type": "text"
      },
      "cell_type": "markdown",
      "source": [
        "# Checkpoint Neural Network Model\n",
        "ตรวจสอบและบันทึกเฉพาะโมเดลที่ดีที่สุด"
      ]
    },
    {
      "metadata": {
        "id": "Q0iDv82eBTJr",
        "colab_type": "code",
        "colab": {}
      },
      "cell_type": "code",
      "source": [
        "from keras.callbacks import ModelCheckpoint\n",
        "\n",
        "model = create_model()\n",
        "model.compile(loss='categorical_crossentropy', optimizer='sgd', metrics=['accuracy'])\n",
        "\n",
        "\n",
        "# checkpoint\n",
        "filepath='/content/drive/My Drive/Colab Notebooks/deep-learning/model/weights-improvement-{epoch:02d}-{val_acc:.4f}.hdf5'\n",
        "checkpoint = ModelCheckpoint(filepath, monitor='val_acc', verbose=1, save_best_only=True, mode='max')\n",
        "callbacks_list = [checkpoint]"
      ],
      "execution_count": 0,
      "outputs": []
    },
    {
      "metadata": {
        "id": "-uQKYayIFE9F",
        "colab_type": "code",
        "colab": {
          "base_uri": "https://localhost:8080/",
          "height": 7001
        },
        "outputId": "0843d247-9b21-454f-beec-9c883aa58d1d"
      },
      "cell_type": "code",
      "source": [
        "history = model.fit(x_train, y_train,\n",
        "                    batch_size=batch_size,\n",
        "                    epochs=epochs,\n",
        "                    verbose=1,\n",
        "                    callbacks=callbacks_list,\n",
        "                    validation_data=(x_test, y_test))"
      ],
      "execution_count": 160,
      "outputs": [
        {
          "output_type": "stream",
          "text": [
            "Train on 60000 samples, validate on 10000 samples\n",
            "Epoch 1/100\n",
            "60000/60000 [==============================] - 3s 48us/step - loss: 1.1954 - acc: 0.6966 - val_loss: 0.5330 - val_acc: 0.8734\n",
            "\n",
            "Epoch 00001: val_acc improved from -inf to 0.87340, saving model to /content/drive/My Drive/Colab Notebooks/deep-learning/model/weights-improvement-01-0.8734.hdf5\n",
            "Epoch 2/100\n",
            "60000/60000 [==============================] - 2s 41us/step - loss: 0.5271 - acc: 0.8524 - val_loss: 0.3734 - val_acc: 0.8988\n",
            "\n",
            "Epoch 00002: val_acc improved from 0.87340 to 0.89880, saving model to /content/drive/My Drive/Colab Notebooks/deep-learning/model/weights-improvement-02-0.8988.hdf5\n",
            "Epoch 3/100\n",
            "60000/60000 [==============================] - 2s 41us/step - loss: 0.4228 - acc: 0.8791 - val_loss: 0.3209 - val_acc: 0.9098\n",
            "\n",
            "Epoch 00003: val_acc improved from 0.89880 to 0.90980, saving model to /content/drive/My Drive/Colab Notebooks/deep-learning/model/weights-improvement-03-0.9098.hdf5\n",
            "Epoch 4/100\n",
            "60000/60000 [==============================] - 2s 41us/step - loss: 0.3736 - acc: 0.8930 - val_loss: 0.2907 - val_acc: 0.9173\n",
            "\n",
            "Epoch 00004: val_acc improved from 0.90980 to 0.91730, saving model to /content/drive/My Drive/Colab Notebooks/deep-learning/model/weights-improvement-04-0.9173.hdf5\n",
            "Epoch 5/100\n",
            "60000/60000 [==============================] - 2s 42us/step - loss: 0.3398 - acc: 0.9022 - val_loss: 0.2703 - val_acc: 0.9226\n",
            "\n",
            "Epoch 00005: val_acc improved from 0.91730 to 0.92260, saving model to /content/drive/My Drive/Colab Notebooks/deep-learning/model/weights-improvement-05-0.9226.hdf5\n",
            "Epoch 6/100\n",
            "60000/60000 [==============================] - 3s 42us/step - loss: 0.3164 - acc: 0.9084 - val_loss: 0.2523 - val_acc: 0.9281\n",
            "\n",
            "Epoch 00006: val_acc improved from 0.92260 to 0.92810, saving model to /content/drive/My Drive/Colab Notebooks/deep-learning/model/weights-improvement-06-0.9281.hdf5\n",
            "Epoch 7/100\n",
            "60000/60000 [==============================] - 2s 41us/step - loss: 0.2954 - acc: 0.9149 - val_loss: 0.2380 - val_acc: 0.9333\n",
            "\n",
            "Epoch 00007: val_acc improved from 0.92810 to 0.93330, saving model to /content/drive/My Drive/Colab Notebooks/deep-learning/model/weights-improvement-07-0.9333.hdf5\n",
            "Epoch 8/100\n",
            "60000/60000 [==============================] - 2s 40us/step - loss: 0.2805 - acc: 0.9196 - val_loss: 0.2268 - val_acc: 0.9354\n",
            "\n",
            "Epoch 00008: val_acc improved from 0.93330 to 0.93540, saving model to /content/drive/My Drive/Colab Notebooks/deep-learning/model/weights-improvement-08-0.9354.hdf5\n",
            "Epoch 9/100\n",
            "60000/60000 [==============================] - 2s 42us/step - loss: 0.2635 - acc: 0.9241 - val_loss: 0.2140 - val_acc: 0.9390\n",
            "\n",
            "Epoch 00009: val_acc improved from 0.93540 to 0.93900, saving model to /content/drive/My Drive/Colab Notebooks/deep-learning/model/weights-improvement-09-0.9390.hdf5\n",
            "Epoch 10/100\n",
            "60000/60000 [==============================] - 2s 41us/step - loss: 0.2512 - acc: 0.9276 - val_loss: 0.2050 - val_acc: 0.9417\n",
            "\n",
            "Epoch 00010: val_acc improved from 0.93900 to 0.94170, saving model to /content/drive/My Drive/Colab Notebooks/deep-learning/model/weights-improvement-10-0.9417.hdf5\n",
            "Epoch 11/100\n",
            "60000/60000 [==============================] - 3s 42us/step - loss: 0.2409 - acc: 0.9310 - val_loss: 0.1972 - val_acc: 0.9442\n",
            "\n",
            "Epoch 00011: val_acc improved from 0.94170 to 0.94420, saving model to /content/drive/My Drive/Colab Notebooks/deep-learning/model/weights-improvement-11-0.9442.hdf5\n",
            "Epoch 12/100\n",
            "60000/60000 [==============================] - 2s 41us/step - loss: 0.2312 - acc: 0.9335 - val_loss: 0.1878 - val_acc: 0.9460\n",
            "\n",
            "Epoch 00012: val_acc improved from 0.94420 to 0.94600, saving model to /content/drive/My Drive/Colab Notebooks/deep-learning/model/weights-improvement-12-0.9460.hdf5\n",
            "Epoch 13/100\n",
            "60000/60000 [==============================] - 2s 41us/step - loss: 0.2222 - acc: 0.9367 - val_loss: 0.1807 - val_acc: 0.9475\n",
            "\n",
            "Epoch 00013: val_acc improved from 0.94600 to 0.94750, saving model to /content/drive/My Drive/Colab Notebooks/deep-learning/model/weights-improvement-13-0.9475.hdf5\n",
            "Epoch 14/100\n",
            "60000/60000 [==============================] - 2s 41us/step - loss: 0.2113 - acc: 0.9392 - val_loss: 0.1737 - val_acc: 0.9509\n",
            "\n",
            "Epoch 00014: val_acc improved from 0.94750 to 0.95090, saving model to /content/drive/My Drive/Colab Notebooks/deep-learning/model/weights-improvement-14-0.9509.hdf5\n",
            "Epoch 15/100\n",
            "60000/60000 [==============================] - 2s 41us/step - loss: 0.2046 - acc: 0.9420 - val_loss: 0.1683 - val_acc: 0.9517\n",
            "\n",
            "Epoch 00015: val_acc improved from 0.95090 to 0.95170, saving model to /content/drive/My Drive/Colab Notebooks/deep-learning/model/weights-improvement-15-0.9517.hdf5\n",
            "Epoch 16/100\n",
            "60000/60000 [==============================] - 2s 40us/step - loss: 0.1971 - acc: 0.9434 - val_loss: 0.1622 - val_acc: 0.9532\n",
            "\n",
            "Epoch 00016: val_acc improved from 0.95170 to 0.95320, saving model to /content/drive/My Drive/Colab Notebooks/deep-learning/model/weights-improvement-16-0.9532.hdf5\n",
            "Epoch 17/100\n",
            "60000/60000 [==============================] - 2s 41us/step - loss: 0.1908 - acc: 0.9452 - val_loss: 0.1569 - val_acc: 0.9547\n",
            "\n",
            "Epoch 00017: val_acc improved from 0.95320 to 0.95470, saving model to /content/drive/My Drive/Colab Notebooks/deep-learning/model/weights-improvement-17-0.9547.hdf5\n",
            "Epoch 18/100\n",
            "60000/60000 [==============================] - 2s 40us/step - loss: 0.1846 - acc: 0.9468 - val_loss: 0.1517 - val_acc: 0.9561\n",
            "\n",
            "Epoch 00018: val_acc improved from 0.95470 to 0.95610, saving model to /content/drive/My Drive/Colab Notebooks/deep-learning/model/weights-improvement-18-0.9561.hdf5\n",
            "Epoch 19/100\n",
            "60000/60000 [==============================] - 2s 41us/step - loss: 0.1766 - acc: 0.9494 - val_loss: 0.1466 - val_acc: 0.9567\n",
            "\n",
            "Epoch 00019: val_acc improved from 0.95610 to 0.95670, saving model to /content/drive/My Drive/Colab Notebooks/deep-learning/model/weights-improvement-19-0.9567.hdf5\n",
            "Epoch 20/100\n",
            "60000/60000 [==============================] - 2s 41us/step - loss: 0.1734 - acc: 0.9502 - val_loss: 0.1429 - val_acc: 0.9575\n",
            "\n",
            "Epoch 00020: val_acc improved from 0.95670 to 0.95750, saving model to /content/drive/My Drive/Colab Notebooks/deep-learning/model/weights-improvement-20-0.9575.hdf5\n",
            "Epoch 21/100\n",
            "60000/60000 [==============================] - 2s 41us/step - loss: 0.1677 - acc: 0.9519 - val_loss: 0.1395 - val_acc: 0.9586\n",
            "\n",
            "Epoch 00021: val_acc improved from 0.95750 to 0.95860, saving model to /content/drive/My Drive/Colab Notebooks/deep-learning/model/weights-improvement-21-0.9586.hdf5\n",
            "Epoch 22/100\n",
            "60000/60000 [==============================] - 2s 41us/step - loss: 0.1635 - acc: 0.9534 - val_loss: 0.1353 - val_acc: 0.9598\n",
            "\n",
            "Epoch 00022: val_acc improved from 0.95860 to 0.95980, saving model to /content/drive/My Drive/Colab Notebooks/deep-learning/model/weights-improvement-22-0.9598.hdf5\n",
            "Epoch 23/100\n",
            "60000/60000 [==============================] - 2s 41us/step - loss: 0.1575 - acc: 0.9553 - val_loss: 0.1326 - val_acc: 0.9598\n",
            "\n",
            "Epoch 00023: val_acc did not improve from 0.95980\n",
            "Epoch 24/100\n",
            "60000/60000 [==============================] - 2s 40us/step - loss: 0.1530 - acc: 0.9565 - val_loss: 0.1295 - val_acc: 0.9607\n",
            "\n",
            "Epoch 00024: val_acc improved from 0.95980 to 0.96070, saving model to /content/drive/My Drive/Colab Notebooks/deep-learning/model/weights-improvement-24-0.9607.hdf5\n",
            "Epoch 25/100\n",
            "60000/60000 [==============================] - 2s 41us/step - loss: 0.1492 - acc: 0.9568 - val_loss: 0.1266 - val_acc: 0.9619\n",
            "\n",
            "Epoch 00025: val_acc improved from 0.96070 to 0.96190, saving model to /content/drive/My Drive/Colab Notebooks/deep-learning/model/weights-improvement-25-0.9619.hdf5\n",
            "Epoch 26/100\n",
            "60000/60000 [==============================] - 2s 40us/step - loss: 0.1462 - acc: 0.9574 - val_loss: 0.1231 - val_acc: 0.9628\n",
            "\n",
            "Epoch 00026: val_acc improved from 0.96190 to 0.96280, saving model to /content/drive/My Drive/Colab Notebooks/deep-learning/model/weights-improvement-26-0.9628.hdf5\n",
            "Epoch 27/100\n",
            "60000/60000 [==============================] - 2s 40us/step - loss: 0.1421 - acc: 0.9591 - val_loss: 0.1205 - val_acc: 0.9639\n",
            "\n",
            "Epoch 00027: val_acc improved from 0.96280 to 0.96390, saving model to /content/drive/My Drive/Colab Notebooks/deep-learning/model/weights-improvement-27-0.9639.hdf5\n",
            "Epoch 28/100\n",
            "60000/60000 [==============================] - 2s 41us/step - loss: 0.1395 - acc: 0.9593 - val_loss: 0.1188 - val_acc: 0.9638\n",
            "\n",
            "Epoch 00028: val_acc did not improve from 0.96390\n",
            "Epoch 29/100\n",
            "60000/60000 [==============================] - 2s 41us/step - loss: 0.1358 - acc: 0.9610 - val_loss: 0.1154 - val_acc: 0.9650\n",
            "\n",
            "Epoch 00029: val_acc improved from 0.96390 to 0.96500, saving model to /content/drive/My Drive/Colab Notebooks/deep-learning/model/weights-improvement-29-0.9650.hdf5\n",
            "Epoch 30/100\n",
            "60000/60000 [==============================] - 2s 40us/step - loss: 0.1323 - acc: 0.9615 - val_loss: 0.1134 - val_acc: 0.9652\n",
            "\n",
            "Epoch 00030: val_acc improved from 0.96500 to 0.96520, saving model to /content/drive/My Drive/Colab Notebooks/deep-learning/model/weights-improvement-30-0.9652.hdf5\n",
            "Epoch 31/100\n",
            "60000/60000 [==============================] - 2s 41us/step - loss: 0.1293 - acc: 0.9628 - val_loss: 0.1107 - val_acc: 0.9659\n",
            "\n",
            "Epoch 00031: val_acc improved from 0.96520 to 0.96590, saving model to /content/drive/My Drive/Colab Notebooks/deep-learning/model/weights-improvement-31-0.9659.hdf5\n",
            "Epoch 32/100\n",
            "60000/60000 [==============================] - 2s 40us/step - loss: 0.1278 - acc: 0.9628 - val_loss: 0.1096 - val_acc: 0.9662\n",
            "\n",
            "Epoch 00032: val_acc improved from 0.96590 to 0.96620, saving model to /content/drive/My Drive/Colab Notebooks/deep-learning/model/weights-improvement-32-0.9662.hdf5\n",
            "Epoch 33/100\n",
            "60000/60000 [==============================] - 3s 42us/step - loss: 0.1247 - acc: 0.9640 - val_loss: 0.1074 - val_acc: 0.9666\n",
            "\n",
            "Epoch 00033: val_acc improved from 0.96620 to 0.96660, saving model to /content/drive/My Drive/Colab Notebooks/deep-learning/model/weights-improvement-33-0.9666.hdf5\n",
            "Epoch 34/100\n",
            "60000/60000 [==============================] - 2s 41us/step - loss: 0.1218 - acc: 0.9652 - val_loss: 0.1057 - val_acc: 0.9672\n",
            "\n",
            "Epoch 00034: val_acc improved from 0.96660 to 0.96720, saving model to /content/drive/My Drive/Colab Notebooks/deep-learning/model/weights-improvement-34-0.9672.hdf5\n",
            "Epoch 35/100\n",
            "60000/60000 [==============================] - 2s 41us/step - loss: 0.1185 - acc: 0.9657 - val_loss: 0.1040 - val_acc: 0.9677\n",
            "\n",
            "Epoch 00035: val_acc improved from 0.96720 to 0.96770, saving model to /content/drive/My Drive/Colab Notebooks/deep-learning/model/weights-improvement-35-0.9677.hdf5\n",
            "Epoch 36/100\n",
            "60000/60000 [==============================] - 2s 40us/step - loss: 0.1162 - acc: 0.9673 - val_loss: 0.1023 - val_acc: 0.9684\n",
            "\n",
            "Epoch 00036: val_acc improved from 0.96770 to 0.96840, saving model to /content/drive/My Drive/Colab Notebooks/deep-learning/model/weights-improvement-36-0.9684.hdf5\n",
            "Epoch 37/100\n",
            "60000/60000 [==============================] - 2s 41us/step - loss: 0.1144 - acc: 0.9667 - val_loss: 0.1002 - val_acc: 0.9691\n",
            "\n",
            "Epoch 00037: val_acc improved from 0.96840 to 0.96910, saving model to /content/drive/My Drive/Colab Notebooks/deep-learning/model/weights-improvement-37-0.9691.hdf5\n",
            "Epoch 38/100\n",
            "60000/60000 [==============================] - 2s 41us/step - loss: 0.1114 - acc: 0.9677 - val_loss: 0.0988 - val_acc: 0.9694\n",
            "\n",
            "Epoch 00038: val_acc improved from 0.96910 to 0.96940, saving model to /content/drive/My Drive/Colab Notebooks/deep-learning/model/weights-improvement-38-0.9694.hdf5\n",
            "Epoch 39/100\n",
            "60000/60000 [==============================] - 2s 40us/step - loss: 0.1095 - acc: 0.9684 - val_loss: 0.0972 - val_acc: 0.9695\n",
            "\n",
            "Epoch 00039: val_acc improved from 0.96940 to 0.96950, saving model to /content/drive/My Drive/Colab Notebooks/deep-learning/model/weights-improvement-39-0.9695.hdf5\n",
            "Epoch 40/100\n",
            "60000/60000 [==============================] - 2s 40us/step - loss: 0.1081 - acc: 0.9691 - val_loss: 0.0963 - val_acc: 0.9704\n",
            "\n",
            "Epoch 00040: val_acc improved from 0.96950 to 0.97040, saving model to /content/drive/My Drive/Colab Notebooks/deep-learning/model/weights-improvement-40-0.9704.hdf5\n",
            "Epoch 41/100\n",
            "60000/60000 [==============================] - 2s 41us/step - loss: 0.1055 - acc: 0.9696 - val_loss: 0.0946 - val_acc: 0.9706\n",
            "\n",
            "Epoch 00041: val_acc improved from 0.97040 to 0.97060, saving model to /content/drive/My Drive/Colab Notebooks/deep-learning/model/weights-improvement-41-0.9706.hdf5\n",
            "Epoch 42/100\n",
            "60000/60000 [==============================] - 2s 41us/step - loss: 0.1043 - acc: 0.9695 - val_loss: 0.0937 - val_acc: 0.9711\n",
            "\n",
            "Epoch 00042: val_acc improved from 0.97060 to 0.97110, saving model to /content/drive/My Drive/Colab Notebooks/deep-learning/model/weights-improvement-42-0.9711.hdf5\n",
            "Epoch 43/100\n",
            "60000/60000 [==============================] - 2s 41us/step - loss: 0.1025 - acc: 0.9702 - val_loss: 0.0925 - val_acc: 0.9712\n",
            "\n",
            "Epoch 00043: val_acc improved from 0.97110 to 0.97120, saving model to /content/drive/My Drive/Colab Notebooks/deep-learning/model/weights-improvement-43-0.9712.hdf5\n",
            "Epoch 44/100\n",
            "60000/60000 [==============================] - 2s 40us/step - loss: 0.1014 - acc: 0.9710 - val_loss: 0.0911 - val_acc: 0.9718\n",
            "\n",
            "Epoch 00044: val_acc improved from 0.97120 to 0.97180, saving model to /content/drive/My Drive/Colab Notebooks/deep-learning/model/weights-improvement-44-0.9718.hdf5\n",
            "Epoch 45/100\n",
            "60000/60000 [==============================] - 3s 42us/step - loss: 0.0983 - acc: 0.9714 - val_loss: 0.0897 - val_acc: 0.9720\n",
            "\n",
            "Epoch 00045: val_acc improved from 0.97180 to 0.97200, saving model to /content/drive/My Drive/Colab Notebooks/deep-learning/model/weights-improvement-45-0.9720.hdf5\n",
            "Epoch 46/100\n",
            "60000/60000 [==============================] - 2s 41us/step - loss: 0.0965 - acc: 0.9722 - val_loss: 0.0880 - val_acc: 0.9724\n",
            "\n",
            "Epoch 00046: val_acc improved from 0.97200 to 0.97240, saving model to /content/drive/My Drive/Colab Notebooks/deep-learning/model/weights-improvement-46-0.9724.hdf5\n",
            "Epoch 47/100\n",
            "60000/60000 [==============================] - 2s 41us/step - loss: 0.0954 - acc: 0.9720 - val_loss: 0.0872 - val_acc: 0.9726\n",
            "\n",
            "Epoch 00047: val_acc improved from 0.97240 to 0.97260, saving model to /content/drive/My Drive/Colab Notebooks/deep-learning/model/weights-improvement-47-0.9726.hdf5\n",
            "Epoch 48/100\n",
            "60000/60000 [==============================] - 2s 40us/step - loss: 0.0925 - acc: 0.9737 - val_loss: 0.0863 - val_acc: 0.9726\n",
            "\n",
            "Epoch 00048: val_acc did not improve from 0.97260\n",
            "Epoch 49/100\n",
            "60000/60000 [==============================] - 2s 41us/step - loss: 0.0913 - acc: 0.9741 - val_loss: 0.0862 - val_acc: 0.9734\n",
            "\n",
            "Epoch 00049: val_acc improved from 0.97260 to 0.97340, saving model to /content/drive/My Drive/Colab Notebooks/deep-learning/model/weights-improvement-49-0.9734.hdf5\n",
            "Epoch 50/100\n",
            "60000/60000 [==============================] - 2s 41us/step - loss: 0.0917 - acc: 0.9729 - val_loss: 0.0849 - val_acc: 0.9735\n",
            "\n",
            "Epoch 00050: val_acc improved from 0.97340 to 0.97350, saving model to /content/drive/My Drive/Colab Notebooks/deep-learning/model/weights-improvement-50-0.9735.hdf5\n",
            "Epoch 51/100\n",
            "60000/60000 [==============================] - 2s 40us/step - loss: 0.0904 - acc: 0.9737 - val_loss: 0.0839 - val_acc: 0.9744\n",
            "\n",
            "Epoch 00051: val_acc improved from 0.97350 to 0.97440, saving model to /content/drive/My Drive/Colab Notebooks/deep-learning/model/weights-improvement-51-0.9744.hdf5\n",
            "Epoch 52/100\n",
            "60000/60000 [==============================] - 2s 40us/step - loss: 0.0887 - acc: 0.9731 - val_loss: 0.0826 - val_acc: 0.9737\n",
            "\n",
            "Epoch 00052: val_acc did not improve from 0.97440\n",
            "Epoch 53/100\n",
            "60000/60000 [==============================] - 2s 41us/step - loss: 0.0874 - acc: 0.9746 - val_loss: 0.0820 - val_acc: 0.9742\n",
            "\n",
            "Epoch 00053: val_acc did not improve from 0.97440\n",
            "Epoch 54/100\n",
            "60000/60000 [==============================] - 2s 41us/step - loss: 0.0846 - acc: 0.9751 - val_loss: 0.0813 - val_acc: 0.9747\n",
            "\n",
            "Epoch 00054: val_acc improved from 0.97440 to 0.97470, saving model to /content/drive/My Drive/Colab Notebooks/deep-learning/model/weights-improvement-54-0.9747.hdf5\n",
            "Epoch 55/100\n",
            "60000/60000 [==============================] - 2s 40us/step - loss: 0.0830 - acc: 0.9766 - val_loss: 0.0808 - val_acc: 0.9749\n",
            "\n",
            "Epoch 00055: val_acc improved from 0.97470 to 0.97490, saving model to /content/drive/My Drive/Colab Notebooks/deep-learning/model/weights-improvement-55-0.9749.hdf5\n",
            "Epoch 56/100\n",
            "60000/60000 [==============================] - 2s 40us/step - loss: 0.0834 - acc: 0.9758 - val_loss: 0.0798 - val_acc: 0.9747\n",
            "\n",
            "Epoch 00056: val_acc did not improve from 0.97490\n",
            "Epoch 57/100\n",
            "60000/60000 [==============================] - 2s 41us/step - loss: 0.0834 - acc: 0.9757 - val_loss: 0.0794 - val_acc: 0.9754\n",
            "\n",
            "Epoch 00057: val_acc improved from 0.97490 to 0.97540, saving model to /content/drive/My Drive/Colab Notebooks/deep-learning/model/weights-improvement-57-0.9754.hdf5\n",
            "Epoch 58/100\n",
            "60000/60000 [==============================] - 2s 40us/step - loss: 0.0800 - acc: 0.9766 - val_loss: 0.0784 - val_acc: 0.9757\n",
            "\n",
            "Epoch 00058: val_acc improved from 0.97540 to 0.97570, saving model to /content/drive/My Drive/Colab Notebooks/deep-learning/model/weights-improvement-58-0.9757.hdf5\n",
            "Epoch 59/100\n",
            "60000/60000 [==============================] - 2s 41us/step - loss: 0.0791 - acc: 0.9770 - val_loss: 0.0780 - val_acc: 0.9751\n",
            "\n",
            "Epoch 00059: val_acc did not improve from 0.97570\n",
            "Epoch 60/100\n",
            "60000/60000 [==============================] - 2s 41us/step - loss: 0.0780 - acc: 0.9771 - val_loss: 0.0768 - val_acc: 0.9756\n",
            "\n",
            "Epoch 00060: val_acc did not improve from 0.97570\n",
            "Epoch 61/100\n",
            "60000/60000 [==============================] - 2s 40us/step - loss: 0.0769 - acc: 0.9776 - val_loss: 0.0769 - val_acc: 0.9763\n",
            "\n",
            "Epoch 00061: val_acc improved from 0.97570 to 0.97630, saving model to /content/drive/My Drive/Colab Notebooks/deep-learning/model/weights-improvement-61-0.9763.hdf5\n",
            "Epoch 62/100\n",
            "60000/60000 [==============================] - 2s 40us/step - loss: 0.0755 - acc: 0.9778 - val_loss: 0.0761 - val_acc: 0.9758\n",
            "\n",
            "Epoch 00062: val_acc did not improve from 0.97630\n",
            "Epoch 63/100\n",
            "60000/60000 [==============================] - 2s 40us/step - loss: 0.0748 - acc: 0.9782 - val_loss: 0.0753 - val_acc: 0.9763\n",
            "\n",
            "Epoch 00063: val_acc did not improve from 0.97630\n",
            "Epoch 64/100\n",
            "60000/60000 [==============================] - 2s 40us/step - loss: 0.0728 - acc: 0.9781 - val_loss: 0.0751 - val_acc: 0.9756\n",
            "\n",
            "Epoch 00064: val_acc did not improve from 0.97630\n",
            "Epoch 65/100\n",
            "60000/60000 [==============================] - 2s 40us/step - loss: 0.0717 - acc: 0.9790 - val_loss: 0.0740 - val_acc: 0.9773\n",
            "\n",
            "Epoch 00065: val_acc improved from 0.97630 to 0.97730, saving model to /content/drive/My Drive/Colab Notebooks/deep-learning/model/weights-improvement-65-0.9773.hdf5\n",
            "Epoch 66/100\n",
            "60000/60000 [==============================] - 2s 40us/step - loss: 0.0717 - acc: 0.9792 - val_loss: 0.0739 - val_acc: 0.9770\n",
            "\n",
            "Epoch 00066: val_acc did not improve from 0.97730\n",
            "Epoch 67/100\n",
            "60000/60000 [==============================] - 2s 39us/step - loss: 0.0688 - acc: 0.9802 - val_loss: 0.0731 - val_acc: 0.9770\n",
            "\n",
            "Epoch 00067: val_acc did not improve from 0.97730\n",
            "Epoch 68/100\n",
            "60000/60000 [==============================] - 2s 40us/step - loss: 0.0697 - acc: 0.9796 - val_loss: 0.0722 - val_acc: 0.9774\n",
            "\n",
            "Epoch 00068: val_acc improved from 0.97730 to 0.97740, saving model to /content/drive/My Drive/Colab Notebooks/deep-learning/model/weights-improvement-68-0.9774.hdf5\n",
            "Epoch 69/100\n",
            "60000/60000 [==============================] - 2s 40us/step - loss: 0.0700 - acc: 0.9790 - val_loss: 0.0716 - val_acc: 0.9777\n",
            "\n",
            "Epoch 00069: val_acc improved from 0.97740 to 0.97770, saving model to /content/drive/My Drive/Colab Notebooks/deep-learning/model/weights-improvement-69-0.9777.hdf5\n",
            "Epoch 70/100\n",
            "60000/60000 [==============================] - 2s 39us/step - loss: 0.0679 - acc: 0.9795 - val_loss: 0.0718 - val_acc: 0.9770\n",
            "\n",
            "Epoch 00070: val_acc did not improve from 0.97770\n",
            "Epoch 71/100\n",
            "60000/60000 [==============================] - 2s 40us/step - loss: 0.0669 - acc: 0.9800 - val_loss: 0.0717 - val_acc: 0.9772\n",
            "\n",
            "Epoch 00071: val_acc did not improve from 0.97770\n",
            "Epoch 72/100\n",
            "60000/60000 [==============================] - 2s 40us/step - loss: 0.0667 - acc: 0.9807 - val_loss: 0.0709 - val_acc: 0.9770\n",
            "\n",
            "Epoch 00072: val_acc did not improve from 0.97770\n",
            "Epoch 73/100\n",
            "60000/60000 [==============================] - 2s 40us/step - loss: 0.0651 - acc: 0.9807 - val_loss: 0.0709 - val_acc: 0.9776\n",
            "\n",
            "Epoch 00073: val_acc did not improve from 0.97770\n",
            "Epoch 74/100\n",
            "60000/60000 [==============================] - 2s 40us/step - loss: 0.0658 - acc: 0.9805 - val_loss: 0.0698 - val_acc: 0.9783\n",
            "\n",
            "Epoch 00074: val_acc improved from 0.97770 to 0.97830, saving model to /content/drive/My Drive/Colab Notebooks/deep-learning/model/weights-improvement-74-0.9783.hdf5\n",
            "Epoch 75/100\n",
            "60000/60000 [==============================] - 2s 40us/step - loss: 0.0643 - acc: 0.9809 - val_loss: 0.0695 - val_acc: 0.9781\n",
            "\n",
            "Epoch 00075: val_acc did not improve from 0.97830\n",
            "Epoch 76/100\n",
            "60000/60000 [==============================] - 2s 40us/step - loss: 0.0621 - acc: 0.9815 - val_loss: 0.0692 - val_acc: 0.9776\n",
            "\n",
            "Epoch 00076: val_acc did not improve from 0.97830\n",
            "Epoch 77/100\n",
            "60000/60000 [==============================] - 2s 41us/step - loss: 0.0613 - acc: 0.9822 - val_loss: 0.0687 - val_acc: 0.9778\n",
            "\n",
            "Epoch 00077: val_acc did not improve from 0.97830\n",
            "Epoch 78/100\n",
            "60000/60000 [==============================] - 2s 41us/step - loss: 0.0610 - acc: 0.9818 - val_loss: 0.0684 - val_acc: 0.9779\n",
            "\n",
            "Epoch 00078: val_acc did not improve from 0.97830\n",
            "Epoch 79/100\n",
            "60000/60000 [==============================] - 2s 39us/step - loss: 0.0598 - acc: 0.9824 - val_loss: 0.0683 - val_acc: 0.9784\n",
            "\n",
            "Epoch 00079: val_acc improved from 0.97830 to 0.97840, saving model to /content/drive/My Drive/Colab Notebooks/deep-learning/model/weights-improvement-79-0.9784.hdf5\n",
            "Epoch 80/100\n",
            "60000/60000 [==============================] - 2s 39us/step - loss: 0.0597 - acc: 0.9825 - val_loss: 0.0680 - val_acc: 0.9785\n",
            "\n",
            "Epoch 00080: val_acc improved from 0.97840 to 0.97850, saving model to /content/drive/My Drive/Colab Notebooks/deep-learning/model/weights-improvement-80-0.9785.hdf5\n",
            "Epoch 81/100\n",
            "60000/60000 [==============================] - 2s 39us/step - loss: 0.0589 - acc: 0.9828 - val_loss: 0.0675 - val_acc: 0.9785\n",
            "\n",
            "Epoch 00081: val_acc did not improve from 0.97850\n",
            "Epoch 82/100\n",
            "60000/60000 [==============================] - 2s 40us/step - loss: 0.0592 - acc: 0.9825 - val_loss: 0.0669 - val_acc: 0.9784\n",
            "\n",
            "Epoch 00082: val_acc did not improve from 0.97850\n",
            "Epoch 83/100\n",
            "60000/60000 [==============================] - 2s 40us/step - loss: 0.0573 - acc: 0.9835 - val_loss: 0.0669 - val_acc: 0.9792\n",
            "\n",
            "Epoch 00083: val_acc improved from 0.97850 to 0.97920, saving model to /content/drive/My Drive/Colab Notebooks/deep-learning/model/weights-improvement-83-0.9792.hdf5\n",
            "Epoch 84/100\n",
            "60000/60000 [==============================] - 2s 41us/step - loss: 0.0574 - acc: 0.9828 - val_loss: 0.0661 - val_acc: 0.9793\n",
            "\n",
            "Epoch 00084: val_acc improved from 0.97920 to 0.97930, saving model to /content/drive/My Drive/Colab Notebooks/deep-learning/model/weights-improvement-84-0.9793.hdf5\n",
            "Epoch 85/100\n",
            "60000/60000 [==============================] - 2s 40us/step - loss: 0.0556 - acc: 0.9836 - val_loss: 0.0659 - val_acc: 0.9788\n",
            "\n",
            "Epoch 00085: val_acc did not improve from 0.97930\n",
            "Epoch 86/100\n",
            "60000/60000 [==============================] - 2s 41us/step - loss: 0.0557 - acc: 0.9837 - val_loss: 0.0660 - val_acc: 0.9794\n",
            "\n",
            "Epoch 00086: val_acc improved from 0.97930 to 0.97940, saving model to /content/drive/My Drive/Colab Notebooks/deep-learning/model/weights-improvement-86-0.9794.hdf5\n",
            "Epoch 87/100\n",
            "60000/60000 [==============================] - 2s 40us/step - loss: 0.0548 - acc: 0.9835 - val_loss: 0.0653 - val_acc: 0.9790\n",
            "\n",
            "Epoch 00087: val_acc did not improve from 0.97940\n",
            "Epoch 88/100\n",
            "60000/60000 [==============================] - 2s 41us/step - loss: 0.0544 - acc: 0.9837 - val_loss: 0.0648 - val_acc: 0.9796\n",
            "\n",
            "Epoch 00088: val_acc improved from 0.97940 to 0.97960, saving model to /content/drive/My Drive/Colab Notebooks/deep-learning/model/weights-improvement-88-0.9796.hdf5\n",
            "Epoch 89/100\n",
            "60000/60000 [==============================] - 2s 39us/step - loss: 0.0530 - acc: 0.9844 - val_loss: 0.0649 - val_acc: 0.9796\n",
            "\n",
            "Epoch 00089: val_acc did not improve from 0.97960\n",
            "Epoch 90/100\n",
            "60000/60000 [==============================] - 2s 41us/step - loss: 0.0532 - acc: 0.9843 - val_loss: 0.0644 - val_acc: 0.9791\n",
            "\n",
            "Epoch 00090: val_acc did not improve from 0.97960\n",
            "Epoch 91/100\n",
            "60000/60000 [==============================] - 2s 40us/step - loss: 0.0525 - acc: 0.9845 - val_loss: 0.0645 - val_acc: 0.9796\n",
            "\n",
            "Epoch 00091: val_acc did not improve from 0.97960\n",
            "Epoch 92/100\n",
            "60000/60000 [==============================] - 2s 40us/step - loss: 0.0521 - acc: 0.9847 - val_loss: 0.0643 - val_acc: 0.9795\n",
            "\n",
            "Epoch 00092: val_acc did not improve from 0.97960\n",
            "Epoch 93/100\n",
            "60000/60000 [==============================] - 2s 40us/step - loss: 0.0513 - acc: 0.9847 - val_loss: 0.0637 - val_acc: 0.9795\n",
            "\n",
            "Epoch 00093: val_acc did not improve from 0.97960\n",
            "Epoch 94/100\n",
            "60000/60000 [==============================] - 3s 43us/step - loss: 0.0516 - acc: 0.9848 - val_loss: 0.0630 - val_acc: 0.9803\n",
            "\n",
            "Epoch 00094: val_acc improved from 0.97960 to 0.98030, saving model to /content/drive/My Drive/Colab Notebooks/deep-learning/model/weights-improvement-94-0.9803.hdf5\n",
            "Epoch 95/100\n",
            "60000/60000 [==============================] - 3s 42us/step - loss: 0.0502 - acc: 0.9849 - val_loss: 0.0632 - val_acc: 0.9798\n",
            "\n",
            "Epoch 00095: val_acc did not improve from 0.98030\n",
            "Epoch 96/100\n",
            "60000/60000 [==============================] - 2s 39us/step - loss: 0.0488 - acc: 0.9858 - val_loss: 0.0632 - val_acc: 0.9795\n",
            "\n",
            "Epoch 00096: val_acc did not improve from 0.98030\n",
            "Epoch 97/100\n",
            "60000/60000 [==============================] - 2s 39us/step - loss: 0.0493 - acc: 0.9855 - val_loss: 0.0631 - val_acc: 0.9795\n",
            "\n",
            "Epoch 00097: val_acc did not improve from 0.98030\n",
            "Epoch 98/100\n",
            "60000/60000 [==============================] - 2s 39us/step - loss: 0.0475 - acc: 0.9866 - val_loss: 0.0626 - val_acc: 0.9799\n",
            "\n",
            "Epoch 00098: val_acc did not improve from 0.98030\n",
            "Epoch 99/100\n",
            "60000/60000 [==============================] - 2s 40us/step - loss: 0.0481 - acc: 0.9863 - val_loss: 0.0624 - val_acc: 0.9802\n",
            "\n",
            "Epoch 00099: val_acc did not improve from 0.98030\n",
            "Epoch 100/100\n",
            "60000/60000 [==============================] - 2s 40us/step - loss: 0.0486 - acc: 0.9852 - val_loss: 0.0622 - val_acc: 0.9803\n",
            "\n",
            "Epoch 00100: val_acc did not improve from 0.98030\n"
          ],
          "name": "stdout"
        }
      ]
    },
    {
      "metadata": {
        "id": "Xi1KwJpwIgx7",
        "colab_type": "text"
      },
      "cell_type": "markdown",
      "source": [
        "## โหลดโมเดลที่ดีที่สุดมาเพื่อพยากรณ์"
      ]
    },
    {
      "metadata": {
        "id": "cbYfBJO7FTzw",
        "colab_type": "code",
        "colab": {}
      },
      "cell_type": "code",
      "source": [
        "model = create_model()\n",
        "\n",
        "weights_path = '/content/drive/My Drive/Colab Notebooks/deep-learning/model/weights-improvement-94-0.9803.hdf5'\n",
        "#model.load_weights(weights_path)\n",
        "best_model = load_model(weights_path)"
      ],
      "execution_count": 0,
      "outputs": []
    },
    {
      "metadata": {
        "id": "4Rx9_psfJvWa",
        "colab_type": "text"
      },
      "cell_type": "markdown",
      "source": [
        "ทดสอบ"
      ]
    },
    {
      "metadata": {
        "id": "r9Ls05vLJr_V",
        "colab_type": "code",
        "colab": {
          "base_uri": "https://localhost:8080/",
          "height": 69
        },
        "outputId": "4148f6d3-3eb8-4c9b-92da-3043f3aff45e"
      },
      "cell_type": "code",
      "source": [
        "print('\\n# Generate predictions for 3 samples')\n",
        "predictions = model_tmp.predict(x_test[:3])\n",
        "print('predictions shape:', predictions.shape)"
      ],
      "execution_count": 162,
      "outputs": [
        {
          "output_type": "stream",
          "text": [
            "\n",
            "# Generate predictions for 3 samples\n",
            "predictions shape: (3, 10)\n"
          ],
          "name": "stdout"
        }
      ]
    },
    {
      "metadata": {
        "id": "sIqROtpgJwwh",
        "colab_type": "code",
        "colab": {
          "base_uri": "https://localhost:8080/",
          "height": 121
        },
        "outputId": "fe46b0ab-eb91-4b41-a120-d41adb4c7412"
      },
      "cell_type": "code",
      "source": [
        "print(predictions)"
      ],
      "execution_count": 163,
      "outputs": [
        {
          "output_type": "stream",
          "text": [
            "[[2.5281092e-06 1.5376789e-07 1.2454280e-04 1.8592588e-04 9.6292538e-09\n",
            "  4.6635273e-07 6.5786085e-11 9.9966991e-01 1.5555220e-06 1.4887487e-05]\n",
            " [6.6592070e-06 2.4626078e-04 9.9954021e-01 1.3055932e-04 1.4719836e-09\n",
            "  4.3441269e-06 5.3162232e-05 4.3958308e-09 1.8650506e-05 1.5412042e-10]\n",
            " [3.4355269e-06 9.9789989e-01 2.7219692e-04 1.3281609e-05 3.6100642e-04\n",
            "  3.4251811e-05 2.1597536e-04 1.0300244e-03 1.6116863e-04 8.6955852e-06]]\n"
          ],
          "name": "stdout"
        }
      ]
    },
    {
      "metadata": {
        "id": "1rAD492FJz2l",
        "colab_type": "code",
        "colab": {}
      },
      "cell_type": "code",
      "source": [
        ""
      ],
      "execution_count": 0,
      "outputs": []
    }
  ]
}