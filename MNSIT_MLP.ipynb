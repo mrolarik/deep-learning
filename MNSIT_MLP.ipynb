{
  "nbformat": 4,
  "nbformat_minor": 0,
  "metadata": {
    "colab": {
      "name": "MNSIT-MLP.ipynb",
      "version": "0.3.2",
      "provenance": [],
      "collapsed_sections": []
    },
    "kernelspec": {
      "name": "python3",
      "display_name": "Python 3"
    },
    "accelerator": "GPU"
  },
  "cells": [
    {
      "metadata": {
        "id": "awJ7lnMXq0tE",
        "colab_type": "text"
      },
      "cell_type": "markdown",
      "source": [
        "# Character Recognition using Multilayer Perceptron (MLP)\n",
        "\n",
        "MLP เป็นโครงข่าย (Network) ประเภทหนึ่งของโครงข่ายประสาทเทียมแบบแพร่ไปข้างหน้า (Feedforward Neural Network)\n",
        "\n",
        "![MLP](https://res.mdpi.com/information/information-03-00756/article_deploy/html/images/information-03-00756-g002.png)\n",
        "\n",
        "MLP จะประกอบด้วยจำนวนชั้น (Layer) จำนวนทั้งสิ้น 3 ชั้น คือ\n",
        "* ชั้นนำเข้า (Input Layer) \n",
        "* ชั้นซ่อน (Hidden Layer) และ\n",
        "* ชั้นแสดงผลลัพธ์ (Output Layer)\n",
        "\n",
        "## Layer\n",
        "* **Input Layer** (*z1 - zm*) เป็นชั้นที่จำนวนโหนด (Node) จะถูกกำหนดให้มีจำนวนเท่ากับแอททริบิวต์ (Attribute) ของข้อมูล ยกตัวอย่างเช่น หากข้อมูล 1 แถว (Record) มีจำนวนทั้งสิ้น 6 คอลัมน์ (Attribute) ดังนั้นใน Input Layer จะกำหนดให้มีจำนวน 6 โหนด \n",
        "* **Hidden Layer** (*x1 - xn*) เป็นชั้นที่สามารถกำหนดจำนวนของโหนดได้ตามความต้องการ ทั้งนี้ขึ้นอยู่กับการทดลอง โดย Hidden Layer สามารถกำหนดให้มีได้มากกว่า 1 ชั้น\n",
        "*  **Output Layer** (*y1 - ym*) จะถูกกำหนดให้มีจำนวนโหนด (Node) เท่ากับจำนวนของคลาส (Class) หรือกลุ่ม เช่นตัวเลข 0-9 มีทั้งสิ้น 10 กลุ่ม และตัวอักษรภาษาอังกฤษ a-z มีทั้งหมด 26 กลุ่ม  \n",
        "\n",
        "## Weight\n",
        "* การเชื่อมโยงระหว่างโหนดในแต่ละชั้น (Layer) ได้แก่ *Vnm* และ *Wkn* เรียกว่า **Weight** หรือค่าน้ำหนัก ซึ่งได้มาจากการคำนวณ ดังนั้นในการคำนวณแต่ละรอบ (Epoch) ค่า weight จะเปลี่ยนไปตามการคำนวณจากข้อมูลที่วิ่งเข้ามาและค่า weight เดิม"
      ]
    },
    {
      "metadata": {
        "id": "fdjQDeV_uquH",
        "colab_type": "text"
      },
      "cell_type": "markdown",
      "source": [
        "ใช้ Keras เป็น tool ในการเขียนโปรแกรม โดยรันอยู่บน TensorFlow"
      ]
    },
    {
      "metadata": {
        "id": "W6hNArThWLd9",
        "colab_type": "code",
        "colab": {}
      },
      "cell_type": "code",
      "source": [
        "import keras"
      ],
      "execution_count": 0,
      "outputs": []
    },
    {
      "metadata": {
        "id": "8kFR1fBVuvFq",
        "colab_type": "text"
      },
      "cell_type": "markdown",
      "source": [
        "## โหลดข้อมูล MNIST\n",
        "\n",
        "โหลดข้อมูล MNIST มาใช้งาน โดยข้อมูลแบ่งออกเป็น 4 ส่วนประกอบด้วย\n",
        "\n",
        "    x_train หมายถึง ข้อมูลชุดเรียนรู้ ซึ่งเป็น pixel ของตัวเลข\n",
        "    y_train หมายถึง Label ของข้อมูลชุดเรียนรู้ ซึ่งมีค่าตั้งแต่ 0-9\n",
        "    x_test หมายถึง ข้อมูลชุดทดสอบ\n",
        "    y_test หมายถึง Label ของข้อมูลชุดทดสอบ\n"
      ]
    },
    {
      "metadata": {
        "id": "Ur9FiFuVWg_q",
        "colab_type": "code",
        "colab": {}
      },
      "cell_type": "code",
      "source": [
        "from keras.datasets import mnist\n",
        "#keras will automatically download the dataset\n",
        "(x_train, y_train), (x_test, y_test) = mnist.load_data()\n",
        "(xx_train, yy_train), (xx_test, yy_test) = mnist.load_data()"
      ],
      "execution_count": 0,
      "outputs": []
    },
    {
      "metadata": {
        "id": "P9otc8tru36K",
        "colab_type": "text"
      },
      "cell_type": "markdown",
      "source": [
        "## แสดงตัวอย่างข้อมูล MNIST"
      ]
    },
    {
      "metadata": {
        "id": "z19Mr0DjWiex",
        "colab_type": "code",
        "outputId": "58a38adf-9d62-4c23-b1af-046471492f41",
        "colab": {
          "base_uri": "https://localhost:8080/",
          "height": 414
        }
      },
      "cell_type": "code",
      "source": [
        "import matplotlib.pyplot as plt\n",
        "import random\n",
        "\n",
        "#get the size of the dataset\n",
        "print('type of training data', type(x_train))\n",
        "print('size of training data', x_train.shape)\n",
        "print('size of test data', x_test.shape)\n",
        "\n",
        "#set the seed so our random tests are reproducible\n",
        "random.seed(49)\n",
        "\n",
        "\n",
        "train_size = len(x_train)\n",
        "\n",
        "r1 = random.randint(0, train_size-1)\n",
        "r2 = random.randint(0, train_size-1)\n",
        "r3 = random.randint(0, train_size-1)\n",
        "r4 = random.randint(0, train_size-1)\n",
        "\n",
        "# แสดงข้อมูลในส่วนของ training data\n",
        "plt.subplot(221)\n",
        "plt.imshow(x_train[r1], cmap=plt.get_cmap('gray'))\n",
        "plt.title(y_train[r1])\n",
        "plt.subplot(222)\n",
        "plt.imshow(x_train[r2], cmap=plt.get_cmap('gray'))\n",
        "plt.title(y_train[r2])\n",
        "plt.subplot(223)\n",
        "plt.imshow(x_train[r3], cmap=plt.get_cmap('gray'))\n",
        "plt.title(y_train[r3])\n",
        "plt.subplot(224)\n",
        "plt.imshow(x_train[r4], cmap=plt.get_cmap('gray'))\n",
        "plt.title(y_train[r4])\n",
        "\n",
        "# show the plot\n",
        "plt.show()"
      ],
      "execution_count": 0,
      "outputs": [
        {
          "output_type": "stream",
          "text": [
            "type of training data <class 'numpy.ndarray'>\n",
            "size of training data (60000, 28, 28)\n",
            "size of test data (10000, 28, 28)\n"
          ],
          "name": "stdout"
        },
        {
          "output_type": "display_data",
          "data": {
            "image/png": "[encoded data removed]",
            "text/plain": [
              "<Figure size 576x396 with 4 Axes>"
            ]
          },
          "metadata": {
            "tags": []
          }
        }
      ]
    },
    {
      "metadata": {
        "id": "7LweIqVAu_jj",
        "colab_type": "code",
        "outputId": "e55f2431-7607-44e8-b0e2-2ffb51670396",
        "colab": {
          "base_uri": "https://localhost:8080/",
          "height": 362
        }
      },
      "cell_type": "code",
      "source": [
        "# แสดงข้อมูลในส่วนของ test data\n",
        "\n",
        "test_size = len(x_test)\n",
        "\n",
        "random.seed(49)\n",
        "\n",
        "r1 = random.randint(0, test_size-1)\n",
        "r2 = random.randint(0, test_size-1)\n",
        "r3 = random.randint(0, test_size-1)\n",
        "r4 = random.randint(0, test_size-1)\n",
        "\n",
        "\n",
        "# แสดงข้อมูลในส่วนของ training data\n",
        "plt.subplot(221)\n",
        "plt.imshow(x_test[r1], cmap=plt.get_cmap('gray'))\n",
        "plt.title(y_test[r1])\n",
        "plt.subplot(222)\n",
        "plt.imshow(x_test[r2], cmap=plt.get_cmap('gray'))\n",
        "plt.title(y_test[r2])\n",
        "plt.subplot(223)\n",
        "plt.imshow(x_test[r3], cmap=plt.get_cmap('gray'))\n",
        "plt.title(y_test[r3])\n",
        "plt.subplot(224)\n",
        "plt.imshow(x_test[r4], cmap=plt.get_cmap('gray'))\n",
        "plt.title(y_test[r4])\n",
        "\n",
        "# show the plot\n",
        "plt.show()"
      ],
      "execution_count": 0,
      "outputs": [
        {
          "output_type": "display_data",
          "data": {
            "image/png": "[encoded data removed]",
            "text/plain": [
              "<Figure size 576x396 with 4 Axes>"
            ]
          },
          "metadata": {
            "tags": []
          }
        }
      ]
    },
    {
      "metadata": {
        "id": "8QGmRtjVvGPX",
        "colab_type": "text"
      },
      "cell_type": "markdown",
      "source": [
        "## ปรับเปลี่ยนรูปแบบของข้อมูล (Reshape)\n",
        "\n",
        "ปรับเปลี่ยนรูปแบบของข้อมูลจาก 28x28 ให้เป็น 784"
      ]
    },
    {
      "metadata": {
        "id": "_evE0MlRWlhT",
        "colab_type": "code",
        "outputId": "31167008-3250-4381-98b1-1659489cf7d0",
        "colab": {
          "base_uri": "https://localhost:8080/",
          "height": 121
        }
      },
      "cell_type": "code",
      "source": [
        "num_pixels = x_train.shape[1] * x_train.shape[2]\n",
        "\n",
        "print('Before reshape')\n",
        "print('shape of x_train', x_train.shape)\n",
        "print('number of pixel', num_pixels)\n",
        "\n",
        "\n",
        "#reshape each data point into a single row vector of 784 pixel values\n",
        "x_train = x_train.reshape(x_train.shape[0], num_pixels) / 255\n",
        "x_test = x_test.reshape(x_test.shape[0], num_pixels) / 255\n",
        "\n",
        "\n",
        "print('After reshape')\n",
        "print('shape of x_train', x_train.shape)\n",
        "print('shape of x_train', x_train.shape)"
      ],
      "execution_count": 0,
      "outputs": [
        {
          "output_type": "stream",
          "text": [
            "Before reshape\n",
            "shape of x_train (60000, 28, 28)\n",
            "number of pixel 784\n",
            "After reshape\n",
            "shape of x_train (60000, 784)\n",
            "shape of x_train (60000, 784)\n"
          ],
          "name": "stdout"
        }
      ]
    },
    {
      "metadata": {
        "id": "FTdDsViTvQuw",
        "colab_type": "text"
      },
      "cell_type": "markdown",
      "source": [
        "## เปลี่ยนรูปแบบของ Label\n",
        "\n",
        "ปรับเปลี่ยนรูปแบบ Label ทั้งในส่วนของ train และ test"
      ]
    },
    {
      "metadata": {
        "id": "XRmSB9OKvVjn",
        "colab_type": "code",
        "outputId": "924be20a-f8ea-4021-ac95-1554dc153e32",
        "colab": {
          "base_uri": "https://localhost:8080/",
          "height": 69
        }
      },
      "cell_type": "code",
      "source": [
        "print('Before')\n",
        "\n",
        "print(y_train[0])\n",
        "print(y_test[0])"
      ],
      "execution_count": 0,
      "outputs": [
        {
          "output_type": "stream",
          "text": [
            "Before\n",
            "5\n",
            "7\n"
          ],
          "name": "stdout"
        }
      ]
    },
    {
      "metadata": {
        "id": "tiZxgSdEWobS",
        "colab_type": "code",
        "outputId": "b23ee7e3-d54e-4106-bb41-15e51c524f8a",
        "colab": {
          "base_uri": "https://localhost:8080/",
          "height": 69
        }
      },
      "cell_type": "code",
      "source": [
        "from keras.utils import np_utils\n",
        "\n",
        "y_train = np_utils.to_categorical(y_train)\n",
        "y_test = np_utils.to_categorical(y_test)\n",
        "\n",
        "print('After')\n",
        "print(y_train[0])\n",
        "print(y_test[0])"
      ],
      "execution_count": 0,
      "outputs": [
        {
          "output_type": "stream",
          "text": [
            "After\n",
            "[0. 0. 0. 0. 0. 1. 0. 0. 0. 0.]\n",
            "[0. 0. 0. 0. 0. 0. 0. 1. 0. 0.]\n"
          ],
          "name": "stdout"
        }
      ]
    },
    {
      "metadata": {
        "id": "NAB-ndp1vadG",
        "colab_type": "text"
      },
      "cell_type": "markdown",
      "source": [
        "แสดงขนาดของ y_train และตัวอย่างข้อมูลจำนวน 10 รายการ"
      ]
    },
    {
      "metadata": {
        "id": "Ov2nVIjK6Ycp",
        "colab_type": "code",
        "outputId": "c474f9e5-9862-494e-b1a9-e89598546a9e",
        "colab": {
          "base_uri": "https://localhost:8080/",
          "height": 208
        }
      },
      "cell_type": "code",
      "source": [
        "print('shape of y_train', y_train.shape)\n",
        "print(y_train[0:10])"
      ],
      "execution_count": 0,
      "outputs": [
        {
          "output_type": "stream",
          "text": [
            "shape of y_train (60000, 10)\n",
            "[[0. 0. 0. 0. 0. 1. 0. 0. 0. 0.]\n",
            " [1. 0. 0. 0. 0. 0. 0. 0. 0. 0.]\n",
            " [0. 0. 0. 0. 1. 0. 0. 0. 0. 0.]\n",
            " [0. 1. 0. 0. 0. 0. 0. 0. 0. 0.]\n",
            " [0. 0. 0. 0. 0. 0. 0. 0. 0. 1.]\n",
            " [0. 0. 1. 0. 0. 0. 0. 0. 0. 0.]\n",
            " [0. 1. 0. 0. 0. 0. 0. 0. 0. 0.]\n",
            " [0. 0. 0. 1. 0. 0. 0. 0. 0. 0.]\n",
            " [0. 1. 0. 0. 0. 0. 0. 0. 0. 0.]\n",
            " [0. 0. 0. 0. 1. 0. 0. 0. 0. 0.]]\n"
          ],
          "name": "stdout"
        }
      ]
    },
    {
      "metadata": {
        "id": "6QToQbWFvfkA",
        "colab_type": "text"
      },
      "cell_type": "markdown",
      "source": [
        "# Multilayer Perceptron (MLP)"
      ]
    },
    {
      "metadata": {
        "id": "2z-Nz5opvpqR",
        "colab_type": "text"
      },
      "cell_type": "markdown",
      "source": [
        "โหลด Library ของ Keras เพื่อใช้สำหรับสร้าง MLP"
      ]
    },
    {
      "metadata": {
        "id": "SRRPszpmvoZh",
        "colab_type": "code",
        "colab": {}
      },
      "cell_type": "code",
      "source": [
        "from keras.models import Sequential\n",
        "from keras.layers import Dense\n",
        "from keras.layers import Dropout\n",
        "from keras.layers import Activation"
      ],
      "execution_count": 0,
      "outputs": []
    },
    {
      "metadata": {
        "id": "YA74CDR6wHdW",
        "colab_type": "text"
      },
      "cell_type": "markdown",
      "source": [
        "### กำหนดจำนวนของ Output Class"
      ]
    },
    {
      "metadata": {
        "id": "6Cz2GA-xWrGn",
        "colab_type": "code",
        "colab": {}
      },
      "cell_type": "code",
      "source": [
        "#after converting to one-hot format we can get the num classes from the shape\n",
        "#y_train = np_utils.to_categorical(y_train)\n",
        "#y_test = np_utils.to_categorical(y_test)\n",
        "\n",
        "num_classes = y_train.shape[1]"
      ],
      "execution_count": 0,
      "outputs": []
    },
    {
      "metadata": {
        "id": "ZKOL_VqWwA2d",
        "colab_type": "text"
      },
      "cell_type": "markdown",
      "source": [
        "## สร้างโมเดล (Model) ของ MLP"
      ]
    },
    {
      "metadata": {
        "id": "QCzFlJb6v-pN",
        "colab_type": "code",
        "colab": {}
      },
      "cell_type": "code",
      "source": [
        "model = Sequential()\n",
        "model.add(Dense(50, input_shape=(784,)))\n",
        "model.add(Activation('relu'))\n",
        "model.add(Dropout(0.2))\n",
        "model.add(Dense(1000))\n",
        "model.add(Activation('relu'))\n",
        "model.add(Dropout(0.2))\n",
        "model.add(Dense(num_classes))\n",
        "model.add(Activation('softmax'))"
      ],
      "execution_count": 0,
      "outputs": []
    },
    {
      "metadata": {
        "id": "qPRw_I-BwYvx",
        "colab_type": "text"
      },
      "cell_type": "markdown",
      "source": [
        "## อธิบายวิธีการสร้าง Model\n",
        "\n",
        "```\n",
        "model = Sequential()\n",
        "```\n",
        "\n",
        "* กำหนดให้ input มีจำนวน 784 โหนด  \n",
        "* จำนวนของ batch_size มีค่าเท่ากับ 50 หมายถึงในการคำนวณแต่ละครั้ง ข้อมูลจะถูกส่งเข้าไปคำนวณจำนวนครั้งละ 50 ชุด\n",
        "```\n",
        "model.add(Dense(50, input_shape=(784,)))\n",
        "```\n",
        "\n",
        "* กำหนด activation function ให้เป็นแบบ ReLU (rectified linear unit)\n",
        "```\n",
        "model.add(Activation('relu'))\n",
        "```\n",
        "\n",
        "* กำหนดให้ dropout = 0.2 ซึ่งหมายถึงการลดจำนวนของโหนดที่ใช้ในการคำนวณ\n",
        "```\n",
        "model.add(Dropout(0.2))\n",
        "```\n",
        "\n",
        "*  กำหนดให้ชั้นซ่อนชั้นแรกมีจำนวน 1000 โหนด\n",
        "```\n",
        "model.add(Dense(1000))\n",
        "```\n",
        "```\n",
        "model.add(Activation('relu'))\n",
        "model.add(Dropout(0.2))\n",
        "```\n",
        "\n",
        "* กำหนดให้ชั้นแสดงผลลัพธ์มีจำนวนโหนดเท่ากับ **num_classes** ซึ่งในกรณีนี้คือ 10 class\n",
        "```\n",
        "model.add(Dense(num_classes))\n",
        "```\n",
        "\n",
        "* ใช้ฟังก์ชัน softmax เพื่อคำนวณหาคำตอบ โดยผลลัพธ์ที่ได้จะแสดงในรูปแบบของความน่าจะเป็น (probability) โดยค่าที่มากที่สุดคือคำตอบ\n",
        "```\n",
        "model.add(Activation('softmax'))\n",
        "```"
      ]
    },
    {
      "metadata": {
        "id": "C084RcHCwfcy",
        "colab_type": "text"
      },
      "cell_type": "markdown",
      "source": [
        "## คอมไพล์ (Compile) โมเดล MLP ที่สร้างขึ้น\n",
        "\n",
        "```\n",
        "model.compile(loss='categorical_crossentropy', optimizer='adam', metrics=['accuracy'])\n",
        "```\n",
        "\n",
        "โดยที่\n",
        "\n",
        "*  **loss function** ถูกกำหนดให้เป็น `loss='categorical_crossentropy'`` โดยที่ *categorical_crossentropy* จะถูกนำไปใช้กับ output ที่มีมากกว่า 2 กลุ่ม หากมีจำนวน 2 กลุ่มสามารถกำหนดให้เป็น `loss='binary_crossentropy'`\n",
        "*  **optimizer** ถูกกำหนดให้ใช้ **adam optimization** ใช้สำหรับการปรับปรุงค่า Weight ในแต่ละรอบ (update network weights iterative)\n"
      ]
    },
    {
      "metadata": {
        "id": "i82zbpuBWyYg",
        "colab_type": "code",
        "colab": {}
      },
      "cell_type": "code",
      "source": [
        "model.compile(loss='categorical_crossentropy', optimizer='adam', metrics=['accuracy'])"
      ],
      "execution_count": 0,
      "outputs": []
    },
    {
      "metadata": {
        "id": "tOQPrz73wnTj",
        "colab_type": "text"
      },
      "cell_type": "markdown",
      "source": [
        "## การเรียนรู้ (Training) โมเดล MLP โดยใช้คำสั่ง fit\n",
        "\n",
        "* สามารถเรียนรู้โมเดลโดยใช้คำสั่ง fit ดังต่อไปนี้\n",
        "\n",
        "```\n",
        "model.fit(x_train, y_train, validation_split=0.1, epochs=10, batch_size=200, verbose=2)\n",
        "```\n",
        "\n",
        "**โดยที่**  \n",
        "* **validation_split** หมายถึงการแบ่งข้อมูลออกมาเพื่อใช้ในการทดสอบโมเดล โดยที่ 0.1 หมายถึง 10%\n",
        "* **epochs** หมายถึงจำนวนรอบที่ใช้ในการเรียนรู้ \n",
        "* **batch_size** หมายถึงจำนวนของรูปภาพที่ส่งเข้าไปคำนวณในแต่ละครั้ง\n",
        "* **verbose** หมายถึงการแสดงผลลัพธ์ของการคำนวณ\n"
      ]
    },
    {
      "metadata": {
        "id": "iBFeFX2uW2fG",
        "colab_type": "code",
        "outputId": "f22c3b5d-e68a-46a5-f5e8-55a87aaa8e5f",
        "colab": {
          "base_uri": "https://localhost:8080/",
          "height": 471
        }
      },
      "cell_type": "code",
      "source": [
        "# Fit and Evaluate\n",
        "model.fit(x_train, y_train, validation_split=0.1, epochs=10, batch_size=200, verbose=2)"
      ],
      "execution_count": 0,
      "outputs": [
        {
          "output_type": "stream",
          "text": [
            "WARNING:tensorflow:From /usr/local/lib/python3.6/dist-packages/tensorflow/python/ops/math_ops.py:3066: to_int32 (from tensorflow.python.ops.math_ops) is deprecated and will be removed in a future version.\n",
            "Instructions for updating:\n",
            "Use tf.cast instead.\n",
            "Train on 54000 samples, validate on 6000 samples\n",
            "Epoch 1/10\n",
            " - 2s - loss: 0.5087 - acc: 0.8450 - val_loss: 0.1673 - val_acc: 0.9522\n",
            "Epoch 2/10\n",
            " - 2s - loss: 0.2393 - acc: 0.9284 - val_loss: 0.1238 - val_acc: 0.9647\n",
            "Epoch 3/10\n",
            " - 2s - loss: 0.1910 - acc: 0.9419 - val_loss: 0.1026 - val_acc: 0.9708\n",
            "Epoch 4/10\n",
            " - 2s - loss: 0.1618 - acc: 0.9500 - val_loss: 0.0958 - val_acc: 0.9720\n",
            "Epoch 5/10\n",
            " - 2s - loss: 0.1463 - acc: 0.9548 - val_loss: 0.0882 - val_acc: 0.9728\n",
            "Epoch 6/10\n",
            " - 2s - loss: 0.1340 - acc: 0.9581 - val_loss: 0.0838 - val_acc: 0.9747\n",
            "Epoch 7/10\n",
            " - 2s - loss: 0.1226 - acc: 0.9609 - val_loss: 0.0842 - val_acc: 0.9748\n",
            "Epoch 8/10\n",
            " - 2s - loss: 0.1121 - acc: 0.9645 - val_loss: 0.0827 - val_acc: 0.9752\n",
            "Epoch 9/10\n",
            " - 2s - loss: 0.1113 - acc: 0.9639 - val_loss: 0.0771 - val_acc: 0.9767\n",
            "Epoch 10/10\n",
            " - 2s - loss: 0.1055 - acc: 0.9663 - val_loss: 0.0770 - val_acc: 0.9768\n"
          ],
          "name": "stdout"
        },
        {
          "output_type": "execute_result",
          "data": {
            "text/plain": [
              "<keras.callbacks.History at 0x7fdc718a9400>"
            ]
          },
          "metadata": {
            "tags": []
          },
          "execution_count": 29
        }
      ]
    },
    {
      "metadata": {
        "id": "E0PYtPe8wslj",
        "colab_type": "text"
      },
      "cell_type": "markdown",
      "source": [
        "## ทดสอบประสิทธิภาพของโมเดล ด้วยคำสั่ง evaluate"
      ]
    },
    {
      "metadata": {
        "id": "hYv9jassW5zX",
        "colab_type": "code",
        "outputId": "c93637f5-a5aa-45df-bd66-3394aa1a16d1",
        "colab": {
          "base_uri": "https://localhost:8080/",
          "height": 34
        }
      },
      "cell_type": "code",
      "source": [
        "# Evaluate on the test data\n",
        "scores = model.evaluate(x_test, y_test, verbose=0)\n",
        "print(\"Baseline Accuracy: %.2f%%\" % (scores[1]*100))"
      ],
      "execution_count": 0,
      "outputs": [
        {
          "output_type": "stream",
          "text": [
            "Baseline Accuracy: 97.41%\n"
          ],
          "name": "stdout"
        }
      ]
    },
    {
      "metadata": {
        "id": "wFHrKrAF2x89",
        "colab_type": "text"
      },
      "cell_type": "markdown",
      "source": [
        "* จากคำตอบ **Baseline Accuracy: 97.41%** ผลลัพธ์ที่ได้จากการทดสอบด้วยชุดทดสอบ (Test set) พบว่าโมเดลที่สร้างมีความถูกต้อง 97.41% \n",
        "* หากต้องการความถูกต้องที่เพิ่มสูงขึ้นอาจต้องปรับเปลี่ยนค่าพารามิเตอร์ (Parameter) เช่น จำนวนรอบในการเรียนรู้ หรือปรับเปลี่ยนโมเดล เช่นจำนวนของโหนดในชั้นซ่อน หรือเพิ่มจำนวนชั้นซ่อน เป็นต้น"
      ]
    },
    {
      "metadata": {
        "id": "k1JPJT55wzAh",
        "colab_type": "text"
      },
      "cell_type": "markdown",
      "source": [
        "## ทดสอบการรู้จำตัวเลขจากชุดข้อมูล MNIST"
      ]
    },
    {
      "metadata": {
        "id": "4DGhpWgoo1lc",
        "colab_type": "code",
        "colab": {}
      },
      "cell_type": "code",
      "source": [
        "from keras.datasets import mnist\n",
        "#keras will automatically downlhoad the dataset\n",
        "(xx_train, yy_train), (xx_test, yy_test) = mnist.load_data()"
      ],
      "execution_count": 0,
      "outputs": []
    },
    {
      "metadata": {
        "id": "In-H23gIo176",
        "colab_type": "code",
        "outputId": "3df30fb2-4bbb-4831-eec5-66a04525d751",
        "colab": {
          "base_uri": "https://localhost:8080/",
          "height": 1059
        }
      },
      "cell_type": "code",
      "source": [
        "# predict the class\n",
        "for i in range(0,3):\n",
        "  r_num = random.randint(0, train_size-1)\n",
        "  plt.imshow(xx_train[r_num])\n",
        "  plt.show()            \n",
        "\n",
        "  output = model.predict_classes([[x_train[r_num]]])\n",
        "  print(\"predict class is \", output)"
      ],
      "execution_count": 0,
      "outputs": [
        {
          "output_type": "display_data",
          "data": {
            "image/png": "[encoded data removed]",
            "text/plain": [
              "<Figure size 576x396 with 1 Axes>"
            ]
          },
          "metadata": {
            "tags": []
          }
        },
        {
          "output_type": "stream",
          "text": [
            "predict class is  [1]\n"
          ],
          "name": "stdout"
        },
        {
          "output_type": "display_data",
          "data": {
            "image/png": "[encoded data removed]",
            "text/plain": [
              "<Figure size 576x396 with 1 Axes>"
            ]
          },
          "metadata": {
            "tags": []
          }
        },
        {
          "output_type": "stream",
          "text": [
            "predict class is  [8]\n"
          ],
          "name": "stdout"
        },
        {
          "output_type": "display_data",
          "data": {
            "image/png": "[encoded data removed]",
            "text/plain": [
              "<Figure size 576x396 with 1 Axes>"
            ]
          },
          "metadata": {
            "tags": []
          }
        },
        {
          "output_type": "stream",
          "text": [
            "predict class is  [5]\n"
          ],
          "name": "stdout"
        }
      ]
    },
    {
      "metadata": {
        "id": "7N-yPajD3BDB",
        "colab_type": "code",
        "colab": {}
      },
      "cell_type": "code",
      "source": [
        ""
      ],
      "execution_count": 0,
      "outputs": []
    }
  ]
}